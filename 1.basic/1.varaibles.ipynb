{
 "cells": [
  {
   "cell_type": "markdown",
   "id": "80dbf1fb-0685-4e3e-8b9a-f9017fc4a827",
   "metadata": {},
   "source": [
    "# Value,variables and types"
   ]
  },
  {
   "cell_type": "markdown",
   "id": "eb918b51-79fb-40bb-8807-165202d2526b",
   "metadata": {},
   "source": [
    "## Assign the value and printing the val"
   ]
  },
  {
   "cell_type": "code",
   "execution_count": 5,
   "id": "d056b367-5889-4711-994e-1dff6d3cac92",
   "metadata": {},
   "outputs": [
    {
     "name": "stdout",
     "output_type": "stream",
     "text": [
      "42"
     ]
    },
    {
     "data": {
      "text/plain": [
       "x: Int = 42\n"
      ]
     },
     "execution_count": 5,
     "metadata": {},
     "output_type": "execute_result"
    }
   ],
   "source": [
    "val x =42\n",
    "print(x)"
   ]
  },
  {
   "cell_type": "markdown",
   "id": "ed0f5741-22ef-4d30-8231-92a557db25e9",
   "metadata": {},
   "source": [
    "Vals are immutable, and they can not be reassigned"
   ]
  },
  {
   "cell_type": "code",
   "execution_count": 6,
   "id": "4109e0f8-d462-454a-8f84-37b7c930bc0f",
   "metadata": {},
   "outputs": [
    {
     "ename": "<console>",
     "evalue": "24: error: reassignment to val",
     "output_type": "error",
     "traceback": [
      "<console>:24: error: reassignment to val",
      "       x=40",
      "        ^",
      ""
     ]
    }
   ],
   "source": [
    "x=40"
   ]
  },
  {
   "cell_type": "markdown",
   "id": "5e85e261-9add-4891-b01a-4560bc4c2b17",
   "metadata": {},
   "source": [
    "We dont have to define the data type\n",
    "\n",
    "Compiler can infer the data type\n"
   ]
  },
  {
   "cell_type": "code",
   "execution_count": 17,
   "id": "c564ad88-5d0a-4966-a52f-f2184e453bd1",
   "metadata": {},
   "outputs": [
    {
     "data": {
      "text/plain": [
       "y: Int = 43\n"
      ]
     },
     "execution_count": 17,
     "metadata": {},
     "output_type": "execute_result"
    }
   ],
   "source": [
    "val y = 43"
   ]
  },
  {
   "cell_type": "markdown",
   "id": "363f6ca7-825e-493c-b4ad-3a7c2ebb2ebc",
   "metadata": {},
   "source": [
    "## Define string"
   ]
  },
  {
   "cell_type": "code",
   "execution_count": 18,
   "id": "4e72d2c1-3b50-45be-935b-95742cd79779",
   "metadata": {},
   "outputs": [
    {
     "data": {
      "text/plain": [
       "p: String = string\n"
      ]
     },
     "execution_count": 18,
     "metadata": {},
     "output_type": "execute_result"
    }
   ],
   "source": [
    "val p = \"string\""
   ]
  },
  {
   "cell_type": "markdown",
   "id": "55ca216b-df74-4141-888d-01fa84c28d3f",
   "metadata": {},
   "source": [
    "## Define variables"
   ]
  },
  {
   "cell_type": "code",
   "execution_count": 19,
   "id": "c667bd81-3917-4bf4-a40a-4c5bcbd0cd4b",
   "metadata": {},
   "outputs": [
    {
     "data": {
      "text/plain": [
       "aVariable: Int = 4\n"
      ]
     },
     "execution_count": 19,
     "metadata": {},
     "output_type": "execute_result"
    }
   ],
   "source": [
    "var aVariable = 4"
   ]
  },
  {
   "cell_type": "markdown",
   "id": "e086e39e-fc34-4a98-8749-5ca4fba682ee",
   "metadata": {},
   "source": [
    "### Variables can be re assigned"
   ]
  },
  {
   "cell_type": "code",
   "execution_count": 21,
   "id": "54d65ca2-15c1-4a19-bc29-9a5e3e34db4d",
   "metadata": {},
   "outputs": [
    {
     "data": {
      "text/plain": [
       "aVariable: Int = 5\n"
      ]
     },
     "execution_count": 21,
     "metadata": {},
     "output_type": "execute_result"
    }
   ],
   "source": [
    "aVariable = 5"
   ]
  },
  {
   "cell_type": "code",
   "execution_count": null,
   "id": "3aa0a51f-0b37-4cdd-bf7b-ad1138d508d2",
   "metadata": {},
   "outputs": [],
   "source": []
  }
 ],
 "metadata": {
  "kernelspec": {
   "display_name": "spylon-kernel",
   "language": "scala",
   "name": "spylon-kernel"
  },
  "language_info": {
   "codemirror_mode": "text/x-scala",
   "file_extension": ".scala",
   "help_links": [
    {
     "text": "MetaKernel Magics",
     "url": "https://metakernel.readthedocs.io/en/latest/source/README.html"
    }
   ],
   "mimetype": "text/x-scala",
   "name": "scala",
   "pygments_lexer": "scala",
   "version": "0.4.1"
  }
 },
 "nbformat": 4,
 "nbformat_minor": 5
}
