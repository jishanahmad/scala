{
 "cells": [
  {
   "cell_type": "markdown",
   "id": "c43e50b5-2ae9-41c2-a559-466a7531bd47",
   "metadata": {},
   "source": [
    "# Operations on string"
   ]
  },
  {
   "cell_type": "code",
   "execution_count": null,
   "id": "c758e50d-6a9d-427b-9a9c-b6d9c3c4544a",
   "metadata": {},
   "outputs": [],
   "source": [
    "println(\"hello\")"
   ]
  },
  {
   "cell_type": "code",
   "execution_count": null,
   "id": "a51957db-6e8b-4211-9791-508ad1648bed",
   "metadata": {},
   "outputs": [],
   "source": []
  }
 ],
 "metadata": {
  "kernelspec": {
   "display_name": "spylon-kernel",
   "language": "scala",
   "name": "spylon-kernel"
  },
  "language_info": {
   "codemirror_mode": "text/x-scala",
   "file_extension": ".scala",
   "help_links": [
    {
     "text": "MetaKernel Magics",
     "url": "https://metakernel.readthedocs.io/en/latest/source/README.html"
    }
   ],
   "mimetype": "text/x-scala",
   "name": "scala",
   "pygments_lexer": "scala",
   "version": "0.4.1"
  }
 },
 "nbformat": 4,
 "nbformat_minor": 5
}
