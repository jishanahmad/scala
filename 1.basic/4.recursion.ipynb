{
 "cells": [
  {
   "cell_type": "markdown",
   "id": "f3694281-ea4b-4ade-8c71-7e21f077dcc1",
   "metadata": {},
   "source": [
    "# Recursion"
   ]
  },
  {
   "cell_type": "markdown",
   "id": "55696acd-0c99-4be4-b69f-57e9712b492b",
   "metadata": {},
   "source": [
    "Conventional recursion program"
   ]
  },
  {
   "cell_type": "code",
   "execution_count": 25,
   "id": "5c3c40c5-411f-4e6e-9df0-bff1ff62eb35",
   "metadata": {},
   "outputs": [
    {
     "data": {
      "text/plain": [
       "factorial: (n: Int)Int\n"
      ]
     },
     "execution_count": 25,
     "metadata": {},
     "output_type": "execute_result"
    }
   ],
   "source": [
    "  def factorial(n: Int): Int =\n",
    "    if (n <= 1) 1\n",
    "    else {\n",
    "      println(\"Computing factorial of \" + n + \" - I first need factorial of \" + (n-1))\n",
    "      val result = n * factorial(n-1)\n",
    "      println(\"Computed factorial of \" + n)\n",
    "\n",
    "      result\n",
    "    }"
   ]
  },
  {
   "cell_type": "code",
   "execution_count": 26,
   "id": "66551607-ea6f-42e6-b3e4-a83745058f55",
   "metadata": {},
   "outputs": [
    {
     "name": "stdout",
     "output_type": "stream",
     "text": [
      "Computing factorial of 10 - I first need factorial of 9\n",
      "Computing factorial of 9 - I first need factorial of 8\n",
      "Computing factorial of 8 - I first need factorial of 7\n",
      "Computing factorial of 7 - I first need factorial of 6\n",
      "Computing factorial of 6 - I first need factorial of 5\n",
      "Computing factorial of 5 - I first need factorial of 4\n",
      "Computing factorial of 4 - I first need factorial of 3\n",
      "Computing factorial of 3 - I first need factorial of 2\n",
      "Computing factorial of 2 - I first need factorial of 1\n",
      "Computed factorial of 2\n",
      "Computed factorial of 3\n",
      "Computed factorial of 4\n",
      "Computed factorial of 5\n",
      "Computed factorial of 6\n",
      "Computed factorial of 7\n",
      "Computed factorial of 8\n",
      "Computed factorial of 9\n",
      "Computed factorial of 10\n"
     ]
    },
    {
     "data": {
      "text/plain": [
       "res12: Int = 3628800\n"
      ]
     },
     "execution_count": 26,
     "metadata": {},
     "output_type": "execute_result"
    }
   ],
   "source": [
    "factorial(10)"
   ]
  },
  {
   "cell_type": "markdown",
   "id": "e73db6dd-1e5d-4ee4-b531-7477d8677a1e",
   "metadata": {},
   "source": [
    "Define same function,but removed the print statement"
   ]
  },
  {
   "cell_type": "code",
   "execution_count": 31,
   "id": "6632ad6d-7ec8-42eb-93e3-fdd1f382fd92",
   "metadata": {},
   "outputs": [
    {
     "data": {
      "text/plain": [
       "factorialShort: (n: Int)BigInt\n"
      ]
     },
     "execution_count": 31,
     "metadata": {},
     "output_type": "execute_result"
    }
   ],
   "source": [
    "  def factorialShort(n: Int): BigInt =\n",
    "    if (n <= 1) 1\n",
    "    else {\n",
    "      val result = n * factorialShort(n-1)\n",
    "\n",
    "      result\n",
    "    }"
   ]
  },
  {
   "cell_type": "code",
   "execution_count": 32,
   "id": "c2c6cd8c-cf6c-455f-957a-f303fa5d8088",
   "metadata": {},
   "outputs": [
    {
     "data": {
      "text/plain": [
       "res15: BigInt = 3628800\n"
      ]
     },
     "execution_count": 32,
     "metadata": {},
     "output_type": "execute_result"
    }
   ],
   "source": [
    "factorialShort(10)"
   ]
  },
  {
   "cell_type": "markdown",
   "id": "b106b69e-82af-4f22-bffb-e602ee9f1bb0",
   "metadata": {},
   "source": [
    "Calculating Big factorial"
   ]
  },
  {
   "cell_type": "code",
   "execution_count": 34,
   "id": "3875e09a-f6d9-46ac-8f91-9b9815e186be",
   "metadata": {},
   "outputs": [
    {
     "data": {
      "text/plain": [
       "res17: BigInt = 4228577926605543522201064200233584405390786674626646748849782402181358052708108200690899047871706387537084746657300685445878486066683812736337210893772787631279390363058462160643904478986982239871929708896211612652968321775500399242196837031469072644728787897904047548841622152266719284109692369104495659717363529484002238403811206448202308576711045023061748947554283097617817240408053248099278093287840554861993645482912118762582488021891739779000502132125980436392446264607705113588465951086754705858339246552255890354744359883473831789880346330084586315102090915099356538200109330479657425567419309170551728052002360750859911976352287559079020433697431235069168312119244959715562674075214621989862330886259983028598648575787494459631152869708867100462684236481789899054546908613...\n"
      ]
     },
     "execution_count": 34,
     "metadata": {},
     "output_type": "execute_result"
    }
   ],
   "source": [
    "factorialShort(5000)"
   ]
  },
  {
   "cell_type": "markdown",
   "id": "ab90efc7-9fd9-4722-8671-1bafee7f5cac",
   "metadata": {},
   "source": [
    "### Above factorial method is not good for big numbers,we have to define factorial in another way"
   ]
  },
  {
   "cell_type": "markdown",
   "id": "0fb883c5-0abe-47a4-b4ef-c579a34d8dee",
   "metadata": {},
   "source": [
    "## Use tail recursion"
   ]
  },
  {
   "cell_type": "code",
   "execution_count": 36,
   "id": "22992d1a-5040-45b5-a4ac-ed57fa9b0bea",
   "metadata": {},
   "outputs": [
    {
     "data": {
      "text/plain": [
       "import scala.annotation.tailrec\n"
      ]
     },
     "execution_count": 36,
     "metadata": {},
     "output_type": "execute_result"
    }
   ],
   "source": [
    "import scala.annotation.tailrec"
   ]
  },
  {
   "cell_type": "code",
   "execution_count": 37,
   "id": "f0c39d5b-e18f-4031-9593-d7caf4df1f76",
   "metadata": {},
   "outputs": [
    {
     "data": {
      "text/plain": [
       "anotherFactorial: (n: Int)BigInt\n"
      ]
     },
     "execution_count": 37,
     "metadata": {},
     "output_type": "execute_result"
    }
   ],
   "source": [
    "  def anotherFactorial(n: Int): BigInt = {\n",
    "    @tailrec\n",
    "    def factHelper(x: Int, accumulator: BigInt): BigInt =\n",
    "      if (x <= 1) accumulator\n",
    "      else factHelper(x - 1, x * accumulator) // TAIL RECURSION = use recursive call as the LAST expression\n",
    "\n",
    "    factHelper(n, 1)\n",
    "  }"
   ]
  },
  {
   "cell_type": "code",
   "execution_count": 38,
   "id": "4aa7d6c1-3c3e-41dd-930b-059f64541476",
   "metadata": {},
   "outputs": [
    {
     "data": {
      "text/plain": [
       "res18: BigInt = 4228577926605543522201064200233584405390786674626646748849782402181358052708108200690899047871706387537084746657300685445878486066683812736337210893772787631279390363058462160643904478986982239871929708896211612652968321775500399242196837031469072644728787897904047548841622152266719284109692369104495659717363529484002238403811206448202308576711045023061748947554283097617817240408053248099278093287840554861993645482912118762582488021891739779000502132125980436392446264607705113588465951086754705858339246552255890354744359883473831789880346330084586315102090915099356538200109330479657425567419309170551728052002360750859911976352287559079020433697431235069168312119244959715562674075214621989862330886259983028598648575787494459631152869708867100462684236481789899054546908613...\n"
      ]
     },
     "execution_count": 38,
     "metadata": {},
     "output_type": "execute_result"
    }
   ],
   "source": [
    "anotherFactorial(5000)"
   ]
  },
  {
   "cell_type": "markdown",
   "id": "99f5d08d-e64b-4794-aea2-b7c4cd63ebfe",
   "metadata": {},
   "source": [
    "## Exercises"
   ]
  },
  {
   "cell_type": "markdown",
   "id": "91575d7b-d3ed-41f0-ba89-8871d12acfe1",
   "metadata": {},
   "source": [
    "### 1.Concatenate a string n times"
   ]
  },
  {
   "cell_type": "code",
   "execution_count": 39,
   "id": "9420258e-9d4b-496d-a4f7-b43c1cdf3ec1",
   "metadata": {},
   "outputs": [
    {
     "data": {
      "text/plain": [
       "concatenateTailrec: (a: String, n: Int, accumulator: String)String\n"
      ]
     },
     "execution_count": 39,
     "metadata": {},
     "output_type": "execute_result"
    }
   ],
   "source": [
    "@tailrec\n",
    "def concatenateTailrec(a:String, n:Int, accumulator:String): String=\n",
    "    if (n < 0) accumulator\n",
    "    else concatenateTailrec(a, n-1, a + accumulator)"
   ]
  },
  {
   "cell_type": "code",
   "execution_count": 40,
   "id": "29490767-b5e3-4584-9f77-192979a5c2e5",
   "metadata": {},
   "outputs": [
    {
     "data": {
      "text/plain": [
       "res19: String = hellohellohellohello\n"
      ]
     },
     "execution_count": 40,
     "metadata": {},
     "output_type": "execute_result"
    }
   ],
   "source": [
    "concatenateTailrec(\"hello\",3, \"\")"
   ]
  },
  {
   "cell_type": "markdown",
   "id": "cc4fb400-cc4c-421a-b94b-80758bbf39f2",
   "metadata": {},
   "source": [
    "### 2.IsPrime function tail recursive"
   ]
  },
  {
   "cell_type": "code",
   "execution_count": 41,
   "id": "3225c272-b181-4a7f-8f6c-a8ceff08c78e",
   "metadata": {},
   "outputs": [
    {
     "data": {
      "text/plain": [
       "isPrime: (n: Int)Boolean\n"
      ]
     },
     "execution_count": 41,
     "metadata": {},
     "output_type": "execute_result"
    }
   ],
   "source": [
    "  def isPrime(n: Int): Boolean = {\n",
    "    @tailrec\n",
    "    def isPrimeTailrec(t: Int, isStillPrime: Boolean): Boolean =\n",
    "      if (!isStillPrime) false\n",
    "      else if (t <= 1) true\n",
    "      else isPrimeTailrec(t - 1, n % t != 0 && isStillPrime)\n",
    "\n",
    "    isPrimeTailrec(n / 2, true)\n",
    "  }\n"
   ]
  },
  {
   "cell_type": "code",
   "execution_count": 42,
   "id": "d36faf78-ae88-4e68-bab7-bab473148452",
   "metadata": {},
   "outputs": [
    {
     "data": {
      "text/plain": [
       "res20: Boolean = true\n"
      ]
     },
     "execution_count": 42,
     "metadata": {},
     "output_type": "execute_result"
    }
   ],
   "source": [
    "isPrime(3)"
   ]
  },
  {
   "cell_type": "markdown",
   "id": "18f46ffc-9b19-44c3-9656-adad0360d912",
   "metadata": {},
   "source": [
    "### 3.Fibonacci function, tail recursive."
   ]
  },
  {
   "cell_type": "code",
   "execution_count": 45,
   "id": "90439473-0776-4a0b-8f72-c6e33bc45f69",
   "metadata": {},
   "outputs": [
    {
     "data": {
      "text/plain": [
       "fibonacci: (n: Int)Int\n"
      ]
     },
     "execution_count": 45,
     "metadata": {},
     "output_type": "execute_result"
    }
   ],
   "source": [
    "def fibonacci(n: Int): Int = {\n",
    "  def fiboTailrec(i: Int, last: Int, nextToLast: Int): Int =\n",
    "    if(i >= n) last\n",
    "    else fiboTailrec(i + 1, last + nextToLast, last)\n",
    "\n",
    "  if (n <= 2) 1\n",
    "  else fiboTailrec(2, 1, 1)\n",
    "}"
   ]
  },
  {
   "cell_type": "code",
   "execution_count": 47,
   "id": "8358a195-1cd9-4cb0-9e19-2b2f587e9668",
   "metadata": {},
   "outputs": [
    {
     "data": {
      "text/plain": [
       "res22: Int = 21\n"
      ]
     },
     "execution_count": 47,
     "metadata": {},
     "output_type": "execute_result"
    }
   ],
   "source": [
    "fibonacci(8)"
   ]
  },
  {
   "cell_type": "code",
   "execution_count": null,
   "id": "9f2a0647-15b7-4b50-a29b-ba5eeef8b2c8",
   "metadata": {},
   "outputs": [],
   "source": []
  }
 ],
 "metadata": {
  "kernelspec": {
   "display_name": "spylon-kernel",
   "language": "scala",
   "name": "spylon-kernel"
  },
  "language_info": {
   "codemirror_mode": "text/x-scala",
   "file_extension": ".scala",
   "help_links": [
    {
     "text": "MetaKernel Magics",
     "url": "https://metakernel.readthedocs.io/en/latest/source/README.html"
    }
   ],
   "mimetype": "text/x-scala",
   "name": "scala",
   "pygments_lexer": "scala",
   "version": "0.4.1"
  }
 },
 "nbformat": 4,
 "nbformat_minor": 5
}
