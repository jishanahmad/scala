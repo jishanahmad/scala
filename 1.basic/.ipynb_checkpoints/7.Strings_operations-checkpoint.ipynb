{
 "cells": [
  {
   "cell_type": "markdown",
   "id": "c43e50b5-2ae9-41c2-a559-466a7531bd47",
   "metadata": {},
   "source": [
    "# Operations on string"
   ]
  },
  {
   "cell_type": "code",
   "execution_count": 7,
   "id": "c758e50d-6a9d-427b-9a9c-b6d9c3c4544a",
   "metadata": {},
   "outputs": [
    {
     "data": {
      "text/plain": [
       "str: String = hello,I am learning scala\n"
      ]
     },
     "execution_count": 7,
     "metadata": {},
     "output_type": "execute_result"
    }
   ],
   "source": [
    "val str = \"hello,I am learning scala\""
   ]
  },
  {
   "cell_type": "markdown",
   "id": "644aa755-8b09-416e-bd59-2b77b586c933",
   "metadata": {},
   "source": [
    "## 1.String methods"
   ]
  },
  {
   "cell_type": "markdown",
   "id": "dcf90832-c2a3-4480-914c-5c3a01356231",
   "metadata": {},
   "source": [
    "### Print string"
   ]
  },
  {
   "cell_type": "code",
   "execution_count": 9,
   "id": "ff290e88-84f6-44d7-8f7a-7231e7df3fb5",
   "metadata": {},
   "outputs": [
    {
     "name": "stdout",
     "output_type": "stream",
     "text": [
      "hello,I am learning scala"
     ]
    }
   ],
   "source": [
    "print(str)"
   ]
  },
  {
   "cell_type": "markdown",
   "id": "a53c87d6-5dbc-45eb-8397-30b55e4ddea1",
   "metadata": {},
   "source": [
    "### Retrive data at any position"
   ]
  },
  {
   "cell_type": "code",
   "execution_count": 12,
   "id": "c3e20176-1554-4392-b14b-1436766b7ee0",
   "metadata": {},
   "outputs": [
    {
     "name": "stdout",
     "output_type": "stream",
     "text": [
      "l\n"
     ]
    }
   ],
   "source": [
    "println(str.charAt(2))"
   ]
  },
  {
   "cell_type": "markdown",
   "id": "27cfded7-9af7-4f25-9898-f9904ce28a3b",
   "metadata": {},
   "source": [
    "### Substring"
   ]
  },
  {
   "cell_type": "code",
   "execution_count": 18,
   "id": "866d905b-4745-42e0-8a33-e655d2aa083e",
   "metadata": {},
   "outputs": [
    {
     "name": "stdout",
     "output_type": "stream",
     "text": [
      " am \n"
     ]
    }
   ],
   "source": [
    "println(str.substring(7, 11))"
   ]
  },
  {
   "cell_type": "markdown",
   "id": "1f51ccb6-e50b-496d-8ade-81ed61622bea",
   "metadata": {},
   "source": [
    "### Split"
   ]
  },
  {
   "cell_type": "code",
   "execution_count": 22,
   "id": "3bce05ed-617c-4a10-bd59-ac359ddbf6c2",
   "metadata": {},
   "outputs": [
    {
     "name": "stdout",
     "output_type": "stream",
     "text": [
      "List(hello,I, am, learning, scala)\n"
     ]
    }
   ],
   "source": [
    "println(str.split(\" \").toList)"
   ]
  },
  {
   "cell_type": "markdown",
   "id": "18309a2f-5886-4cf5-8e8d-6e75beba3368",
   "metadata": {},
   "source": [
    "### startswith"
   ]
  },
  {
   "cell_type": "code",
   "execution_count": 23,
   "id": "a36d2011-0f9d-40ab-aa10-bdeaae0abeb4",
   "metadata": {},
   "outputs": [
    {
     "name": "stdout",
     "output_type": "stream",
     "text": [
      "true\n"
     ]
    }
   ],
   "source": [
    "println(str.startsWith(\"hello\"))"
   ]
  },
  {
   "cell_type": "markdown",
   "id": "2b1bc31d-aa2e-43f1-bfcd-7c425f2f319f",
   "metadata": {},
   "source": [
    "### Replace"
   ]
  },
  {
   "cell_type": "code",
   "execution_count": 24,
   "id": "21ef25c2-6c3e-440a-a12b-597a95480f06",
   "metadata": {},
   "outputs": [
    {
     "name": "stdout",
     "output_type": "stream",
     "text": [
      "HELLO-IBM,I am learning scala\n"
     ]
    }
   ],
   "source": [
    "println(str.replace(\"hello\", \"HELLO-IBM\"))"
   ]
  },
  {
   "cell_type": "markdown",
   "id": "94083560-a19f-4e8f-bfc2-2094bafb9941",
   "metadata": {},
   "source": [
    "### Lowercase"
   ]
  },
  {
   "cell_type": "code",
   "execution_count": 29,
   "id": "80c0f6b5-b8e0-4af4-8a2d-6e67c01161b5",
   "metadata": {},
   "outputs": [
    {
     "name": "stdout",
     "output_type": "stream",
     "text": [
      "hello,i am learning scala\n"
     ]
    }
   ],
   "source": [
    "println(str.toLowerCase())"
   ]
  },
  {
   "cell_type": "markdown",
   "id": "3de8fe48-466c-47c3-92a9-98fccfe16076",
   "metadata": {},
   "source": [
    "### Length"
   ]
  },
  {
   "cell_type": "code",
   "execution_count": 30,
   "id": "5c563c63-78cd-4466-964d-525bd7cb78eb",
   "metadata": {},
   "outputs": [
    {
     "name": "stdout",
     "output_type": "stream",
     "text": [
      "25\n"
     ]
    }
   ],
   "source": [
    "println(str.length())"
   ]
  },
  {
   "cell_type": "markdown",
   "id": "9b27b94d-9f4d-4fce-a4ba-40f8fc2c0cd5",
   "metadata": {},
   "source": [
    "### Convert to int"
   ]
  },
  {
   "cell_type": "code",
   "execution_count": 31,
   "id": "333a5dcf-b58f-4035-ba20-f6ffa9c621c8",
   "metadata": {},
   "outputs": [
    {
     "data": {
      "text/plain": [
       "aString: String = 45\n"
      ]
     },
     "execution_count": 31,
     "metadata": {},
     "output_type": "execute_result"
    }
   ],
   "source": [
    "val aString = \"45\""
   ]
  },
  {
   "cell_type": "code",
   "execution_count": 33,
   "id": "bb7c3688-073b-490d-b55d-6b70c1acea70",
   "metadata": {},
   "outputs": [
    {
     "name": "stdout",
     "output_type": "stream",
     "text": [
      "45\n"
     ]
    }
   ],
   "source": [
    "println(aString.toInt)"
   ]
  },
  {
   "cell_type": "markdown",
   "id": "6826589f-4d70-49d4-869d-97427ebcfd2f",
   "metadata": {},
   "source": [
    "### Prepending and appending string"
   ]
  },
  {
   "cell_type": "code",
   "execution_count": 35,
   "id": "2df33548-ab60-4b99-97e7-33fb2f8754b2",
   "metadata": {},
   "outputs": [
    {
     "name": "stdout",
     "output_type": "stream",
     "text": [
      "a45z\n"
     ]
    }
   ],
   "source": [
    "println('a' +: aString :+ 'z')"
   ]
  },
  {
   "cell_type": "markdown",
   "id": "d4278201-c556-431f-9ad8-6da1081db6d8",
   "metadata": {},
   "source": [
    "## 2.String interpolation"
   ]
  },
  {
   "cell_type": "markdown",
   "id": "80007bef-9570-45a8-9efb-d3c4427b0042",
   "metadata": {},
   "source": [
    "### S-interpolation"
   ]
  },
  {
   "cell_type": "code",
   "execution_count": 36,
   "id": "a1123495-e9ed-46a1-a9a8-29d2207329e7",
   "metadata": {},
   "outputs": [
    {
     "data": {
      "text/plain": [
       "name: String = Jishan\n",
       "age: Int = 30\n"
      ]
     },
     "execution_count": 36,
     "metadata": {},
     "output_type": "execute_result"
    }
   ],
   "source": [
    "val name= \"Jishan\"\n",
    "val age = 30"
   ]
  },
  {
   "cell_type": "code",
   "execution_count": 38,
   "id": "af1ef2db-afd2-409e-b6bc-b2bfce8ee2e8",
   "metadata": {},
   "outputs": [
    {
     "name": "stdout",
     "output_type": "stream",
     "text": [
      "My name is Jishan and i am 30 years old\n"
     ]
    }
   ],
   "source": [
    "println(s\"My name is ${name} and i am ${age} years old\")"
   ]
  },
  {
   "cell_type": "markdown",
   "id": "0f987228-accf-4230-8526-3dbd8e565552",
   "metadata": {},
   "source": [
    "### f-interpolation"
   ]
  },
  {
   "cell_type": "code",
   "execution_count": 39,
   "id": "adaf5641-202f-4a27-aa1b-f2641615f72f",
   "metadata": {},
   "outputs": [
    {
     "data": {
      "text/plain": [
       "speed: Float = 1.2\n"
      ]
     },
     "execution_count": 39,
     "metadata": {},
     "output_type": "execute_result"
    }
   ],
   "source": [
    "val speed = 1.2f"
   ]
  },
  {
   "cell_type": "code",
   "execution_count": 46,
   "id": "14a6dece-1519-4542-9bb0-fccca855cfba",
   "metadata": {},
   "outputs": [
    {
     "name": "stdout",
     "output_type": "stream",
     "text": [
      "My name is Jishan and i can eat burger at speed of 1.20\n"
     ]
    }
   ],
   "source": [
    "println(f\"My name is ${name} and i can eat burger at speed of ${speed}%2.2f\")"
   ]
  },
  {
   "cell_type": "markdown",
   "id": "e42fc36f-3a11-4404-9f1f-7f819cbd4f67",
   "metadata": {},
   "source": [
    "### raw interpolation"
   ]
  },
  {
   "cell_type": "code",
   "execution_count": 47,
   "id": "cc8a575d-d3d0-4b7c-ad8e-43f5d58f23b2",
   "metadata": {},
   "outputs": [
    {
     "name": "stdout",
     "output_type": "stream",
     "text": [
      "the is \\n newline\n"
     ]
    }
   ],
   "source": [
    "println(raw\"the is \\n newline\")"
   ]
  },
  {
   "cell_type": "code",
   "execution_count": null,
   "id": "1ff6d559-5020-45ba-ad49-e56e661618cf",
   "metadata": {},
   "outputs": [],
   "source": []
  }
 ],
 "metadata": {
  "kernelspec": {
   "display_name": "spylon-kernel",
   "language": "scala",
   "name": "spylon-kernel"
  },
  "language_info": {
   "codemirror_mode": "text/x-scala",
   "file_extension": ".scala",
   "help_links": [
    {
     "text": "MetaKernel Magics",
     "url": "https://metakernel.readthedocs.io/en/latest/source/README.html"
    }
   ],
   "mimetype": "text/x-scala",
   "name": "scala",
   "pygments_lexer": "scala",
   "version": "0.4.1"
  }
 },
 "nbformat": 4,
 "nbformat_minor": 5
}
