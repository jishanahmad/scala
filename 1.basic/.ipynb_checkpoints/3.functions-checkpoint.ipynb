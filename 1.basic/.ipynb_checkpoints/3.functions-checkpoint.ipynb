{
 "cells": [
  {
   "cell_type": "markdown",
   "id": "f49cc1d4-8f63-4040-83b1-3cc446e9f892",
   "metadata": {},
   "source": [
    "# Functions"
   ]
  },
  {
   "cell_type": "markdown",
   "id": "d78ea50f-2346-4f2e-a107-a0c03196bcce",
   "metadata": {},
   "source": [
    "## Define a function with parameter"
   ]
  },
  {
   "cell_type": "code",
   "execution_count": 3,
   "id": "6edffcb1-da87-4b25-b5c8-44530fa68958",
   "metadata": {},
   "outputs": [
    {
     "data": {
      "text/plain": [
       "aFunction: (a: String, b: Int)String\n"
      ]
     },
     "execution_count": 3,
     "metadata": {},
     "output_type": "execute_result"
    }
   ],
   "source": [
    "def aFunction(a: String, b:Int): String =\n",
    "    a + \" \" + b"
   ]
  },
  {
   "cell_type": "markdown",
   "id": "faedc456-3d60-429b-9075-1174fa2ce129",
   "metadata": {},
   "source": [
    "Both are same"
   ]
  },
  {
   "cell_type": "code",
   "execution_count": 5,
   "id": "4b4f04fd-1ae1-4235-8342-65d7f3de93ca",
   "metadata": {},
   "outputs": [
    {
     "data": {
      "text/plain": [
       "aFunction: (a: String, b: Int)String\n"
      ]
     },
     "execution_count": 5,
     "metadata": {},
     "output_type": "execute_result"
    }
   ],
   "source": [
    "def aFunction(a: String, b:Int): String = {\n",
    "    a + \" \" + b\n",
    "}"
   ]
  },
  {
   "cell_type": "markdown",
   "id": "820e8e5a-74ce-4794-9af2-ca0cc9970803",
   "metadata": {},
   "source": [
    "### Call a function"
   ]
  },
  {
   "cell_type": "code",
   "execution_count": 6,
   "id": "297d4db9-55a9-4d06-bead-e28b18f780b8",
   "metadata": {},
   "outputs": [
    {
     "name": "stdout",
     "output_type": "stream",
     "text": [
      "hello 3\n"
     ]
    }
   ],
   "source": [
    "println(aFunction(\"hello\", 3))"
   ]
  },
  {
   "cell_type": "markdown",
   "id": "a5e908f7-2ea1-4902-b897-414924d508ec",
   "metadata": {},
   "source": [
    "## Define a function without parameter"
   ]
  },
  {
   "cell_type": "code",
   "execution_count": 9,
   "id": "835a6f16-9e9e-40da-b815-3903dc6f0923",
   "metadata": {},
   "outputs": [
    {
     "data": {
      "text/plain": [
       "bFunction: ()Int\n"
      ]
     },
     "execution_count": 9,
     "metadata": {},
     "output_type": "execute_result"
    }
   ],
   "source": [
    "def bFunction()=\n",
    "{\n",
    "    5\n",
    "}"
   ]
  },
  {
   "cell_type": "markdown",
   "id": "c28e15ca-6c65-4e22-8bc0-bac6d341a551",
   "metadata": {},
   "source": [
    "### Call a function"
   ]
  },
  {
   "cell_type": "code",
   "execution_count": 10,
   "id": "f53a428f-bb67-4dee-ab89-9bdeadd8a4ac",
   "metadata": {},
   "outputs": [
    {
     "name": "stdout",
     "output_type": "stream",
     "text": [
      "5\n"
     ]
    }
   ],
   "source": [
    "println(bFunction)"
   ]
  },
  {
   "cell_type": "markdown",
   "id": "517044f1-f16e-4df4-9a47-12c842148f0c",
   "metadata": {},
   "source": [
    "## When you need loops,use recursion"
   ]
  },
  {
   "cell_type": "code",
   "execution_count": 15,
   "id": "d04dbe0b-b919-4fdb-82a9-21c5a942e332",
   "metadata": {},
   "outputs": [
    {
     "data": {
      "text/plain": [
       "aRepeatFun: (a: String, b: Int)String\n"
      ]
     },
     "execution_count": 15,
     "metadata": {},
     "output_type": "execute_result"
    }
   ],
   "source": [
    "def aRepeatFun(a: String, b:Int): String ={\n",
    "    if(b ==1 ) a else a + aRepeatFun(a, b-1)\n",
    "}"
   ]
  },
  {
   "cell_type": "code",
   "execution_count": 17,
   "id": "ee46b1ac-d7b0-4b95-a8fb-f570a266fd81",
   "metadata": {},
   "outputs": [
    {
     "data": {
      "text/plain": [
       "res3: String = hellohello\n"
      ]
     },
     "execution_count": 17,
     "metadata": {},
     "output_type": "execute_result"
    }
   ],
   "source": [
    "aRepeatFun(\"hello\",2)"
   ]
  },
  {
   "cell_type": "markdown",
   "id": "d8323d4e-9618-43bc-847a-cb01fec66430",
   "metadata": {},
   "source": [
    "### Always define the return type of functions"
   ]
  },
  {
   "cell_type": "markdown",
   "id": "32a3ed90-1316-42fe-bbdc-cff57168bd05",
   "metadata": {},
   "source": [
    "Return type can not be figured out"
   ]
  },
  {
   "cell_type": "code",
   "execution_count": 19,
   "id": "a494ae71-559a-4949-9c4f-2c2592c02ebe",
   "metadata": {},
   "outputs": [
    {
     "ename": "<console>",
     "evalue": "25: error: recursive method aRepeatFun needs result type",
     "output_type": "error",
     "traceback": [
      "<console>:25: error: recursive method aRepeatFun needs result type",
      "           if(b ==1 ) a else a + aRepeatFun(a, b-1)",
      "                                 ^",
      ""
     ]
    }
   ],
   "source": [
    "def aRepeatFun(a: String, b:Int) ={\n",
    "    if(b ==1 ) a else a + aRepeatFun(a, b-1)\n",
    "}"
   ]
  },
  {
   "cell_type": "markdown",
   "id": "5916d500-44d6-4f4e-945e-94f87ce84163",
   "metadata": {},
   "source": [
    "Return type can be figured out"
   ]
  },
  {
   "cell_type": "code",
   "execution_count": 20,
   "id": "342d9303-4e5c-4edc-8b4a-a24c1383b3af",
   "metadata": {},
   "outputs": [
    {
     "data": {
      "text/plain": [
       "aFunction: (a: String, b: Int)String\n"
      ]
     },
     "execution_count": 20,
     "metadata": {},
     "output_type": "execute_result"
    }
   ],
   "source": [
    "def aFunction(a: String, b:Int) =\n",
    "    a + \" \" + b"
   ]
  },
  {
   "cell_type": "markdown",
   "id": "151791b1-27c3-4249-89f5-13a2ede2659a",
   "metadata": {},
   "source": [
    "## Function with unit return type"
   ]
  },
  {
   "cell_type": "code",
   "execution_count": 21,
   "id": "3eacb9ca-bf10-4a32-abca-ad959a62513b",
   "metadata": {},
   "outputs": [
    {
     "data": {
      "text/plain": [
       "aFunWithSideEffect: (a: String)Unit\n"
      ]
     },
     "execution_count": 21,
     "metadata": {},
     "output_type": "execute_result"
    }
   ],
   "source": [
    "def aFunWithSideEffect(a:String): Unit ={\n",
    "    println(a)\n",
    "}"
   ]
  },
  {
   "cell_type": "code",
   "execution_count": 22,
   "id": "121a1e31-dc2d-450c-bc70-ffbf49c22b32",
   "metadata": {},
   "outputs": [
    {
     "name": "stdout",
     "output_type": "stream",
     "text": [
      "hello\n"
     ]
    }
   ],
   "source": [
    "aFunWithSideEffect(\"hello\")"
   ]
  },
  {
   "cell_type": "markdown",
   "id": "65c7405d-b005-43ac-acd0-1b549585bacf",
   "metadata": {},
   "source": [
    "## Auxilary function"
   ]
  },
  {
   "cell_type": "code",
   "execution_count": null,
   "id": "c62756b5-42a9-471f-85e5-5fdb5b9a4e9e",
   "metadata": {},
   "outputs": [],
   "source": []
  },
  {
   "cell_type": "markdown",
   "id": "46c7fb10-e072-4312-94c3-4977bf26bb1f",
   "metadata": {},
   "source": [
    "## Examples"
   ]
  },
  {
   "cell_type": "markdown",
   "id": "068ef219-ed63-46b5-90cd-c0c475f11816",
   "metadata": {},
   "source": [
    "#### 1.a greeting function(name,age) => \"Hi, my name is {name} and i am {age} years old\""
   ]
  },
  {
   "cell_type": "code",
   "execution_count": 28,
   "id": "1861d07f-08a2-45cf-a032-c0464a05c8b1",
   "metadata": {},
   "outputs": [
    {
     "data": {
      "text/plain": [
       "greeting: (name: String, age: Int)String\n"
      ]
     },
     "execution_count": 28,
     "metadata": {},
     "output_type": "execute_result"
    }
   ],
   "source": [
    "def greeting(name:String, age:Int): String = {\n",
    "    \"Hi, my name is \" + name + \" and i am \" + age + \" years old\"\n",
    "}"
   ]
  },
  {
   "cell_type": "code",
   "execution_count": 29,
   "id": "9dc2d4a2-ff39-4ed6-bb74-a0dc0ee99032",
   "metadata": {},
   "outputs": [
    {
     "data": {
      "text/plain": [
       "res7: String = Hi, my name is Jishan and i am 17 years old\n"
      ]
     },
     "execution_count": 29,
     "metadata": {},
     "output_type": "execute_result"
    }
   ],
   "source": [
    "greeting(\"Jishan\",17)"
   ]
  },
  {
   "cell_type": "markdown",
   "id": "fc2981c8-a18a-40a5-ad7c-29d6bf4f1279",
   "metadata": {},
   "source": [
    "#### 2.Factorial function"
   ]
  },
  {
   "cell_type": "code",
   "execution_count": 36,
   "id": "e0df54ac-2bbb-482e-afd6-621f06f50126",
   "metadata": {},
   "outputs": [
    {
     "data": {
      "text/plain": [
       "factorial: (n: Int)Int\n"
      ]
     },
     "execution_count": 36,
     "metadata": {},
     "output_type": "execute_result"
    }
   ],
   "source": [
    "def factorial(n: Int):Int = {\n",
    "    if (n <= 0) 1\n",
    "    else n * factorial(n-1)\n",
    "}"
   ]
  },
  {
   "cell_type": "code",
   "execution_count": 37,
   "id": "7e8e5c8c-fc82-45a9-b83b-e514ead3920a",
   "metadata": {},
   "outputs": [
    {
     "data": {
      "text/plain": [
       "res11: Int = 120\n"
      ]
     },
     "execution_count": 37,
     "metadata": {},
     "output_type": "execute_result"
    }
   ],
   "source": [
    "factorial(5)"
   ]
  },
  {
   "cell_type": "markdown",
   "id": "ccd54bfa-190d-4591-95bc-dbdb0dd95281",
   "metadata": {},
   "source": [
    "#### 3.A fibonacci function"
   ]
  },
  {
   "cell_type": "code",
   "execution_count": 38,
   "id": "4c01ae99-eee5-4677-bfbe-76e904c467ad",
   "metadata": {},
   "outputs": [
    {
     "data": {
      "text/plain": [
       "fibonacci: (n: Int)Int\n"
      ]
     },
     "execution_count": 38,
     "metadata": {},
     "output_type": "execute_result"
    }
   ],
   "source": [
    "def fibonacci(n: Int): Int = {\n",
    "    if (n <=2 ) 1\n",
    "    else fibonacci(n-1) + fibonacci(n - 2)\n",
    "}"
   ]
  },
  {
   "cell_type": "code",
   "execution_count": 39,
   "id": "53c47ca3-adaf-4582-99ac-d4ed4e1cb51d",
   "metadata": {},
   "outputs": [
    {
     "data": {
      "text/plain": [
       "res12: Int = 21\n"
      ]
     },
     "execution_count": 39,
     "metadata": {},
     "output_type": "execute_result"
    }
   ],
   "source": [
    "fibonacci(8)"
   ]
  },
  {
   "cell_type": "markdown",
   "id": "fdb143cc-0595-48ee-b6d6-7383994bc9e1",
   "metadata": {},
   "source": [
    "#### 4.Chck if a number is prime"
   ]
  },
  {
   "cell_type": "code",
   "execution_count": null,
   "id": "c7c68e17-382b-4a20-a1d3-e50415078745",
   "metadata": {},
   "outputs": [],
   "source": []
  }
 ],
 "metadata": {
  "kernelspec": {
   "display_name": "spylon-kernel",
   "language": "scala",
   "name": "spylon-kernel"
  },
  "language_info": {
   "codemirror_mode": "text/x-scala",
   "file_extension": ".scala",
   "help_links": [
    {
     "text": "MetaKernel Magics",
     "url": "https://metakernel.readthedocs.io/en/latest/source/README.html"
    }
   ],
   "mimetype": "text/x-scala",
   "name": "scala",
   "pygments_lexer": "scala",
   "version": "0.4.1"
  }
 },
 "nbformat": 4,
 "nbformat_minor": 5
}
