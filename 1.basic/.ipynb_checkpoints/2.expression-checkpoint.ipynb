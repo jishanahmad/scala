{
 "cells": [
  {
   "cell_type": "markdown",
   "id": "543039c3-b0a4-4750-9ae5-4701ebf4429a",
   "metadata": {},
   "source": [
    "# Expression"
   ]
  },
  {
   "cell_type": "markdown",
   "id": "7922b9ed-8280-4140-a24b-2b3ec9d20406",
   "metadata": {},
   "source": [
    "Define an expression"
   ]
  },
  {
   "cell_type": "code",
   "execution_count": 2,
   "id": "ebb36ea4-23c6-41c4-9aac-a98b060b2a0b",
   "metadata": {},
   "outputs": [
    {
     "name": "stdout",
     "output_type": "stream",
     "text": [
      "3\n"
     ]
    },
    {
     "data": {
      "text/plain": [
       "x: Int = 3\n"
      ]
     },
     "execution_count": 2,
     "metadata": {},
     "output_type": "execute_result"
    }
   ],
   "source": [
    "val x = 1 + 2\n",
    "println(x)"
   ]
  },
  {
   "cell_type": "markdown",
   "id": "da13f5b8-e70a-4d5e-8152-3c99735ce45c",
   "metadata": {},
   "source": [
    "Printing math expressions"
   ]
  },
  {
   "cell_type": "code",
   "execution_count": 3,
   "id": "824c3095-aa45-44fb-9043-57d84b0c9f8c",
   "metadata": {},
   "outputs": [
    {
     "name": "stdout",
     "output_type": "stream",
     "text": [
      "14\n"
     ]
    }
   ],
   "source": [
    "println(2+3*4)"
   ]
  },
  {
   "cell_type": "markdown",
   "id": "0cf30558-a723-48e3-8064-e8e42b6e5ebf",
   "metadata": {},
   "source": [
    "### Equal expression"
   ]
  },
  {
   "cell_type": "code",
   "execution_count": 4,
   "id": "0986d68f-f504-4a8e-a777-8b6aa03f408a",
   "metadata": {},
   "outputs": [
    {
     "name": "stdout",
     "output_type": "stream",
     "text": [
      "false\n"
     ]
    }
   ],
   "source": [
    "println(x==4)"
   ]
  },
  {
   "cell_type": "code",
   "execution_count": 5,
   "id": "425cd384-80b9-4f00-af8e-2c35cc76f6d1",
   "metadata": {},
   "outputs": [
    {
     "name": "stdout",
     "output_type": "stream",
     "text": [
      "true\n"
     ]
    }
   ],
   "source": [
    "println(x!=4)"
   ]
  },
  {
   "cell_type": "markdown",
   "id": "24e682e9-fdc7-4375-a6e6-b0985cf5969b",
   "metadata": {},
   "source": [
    "### Plus equal"
   ]
  },
  {
   "cell_type": "markdown",
   "id": "5c6e45ec-fa04-439f-950e-505cdd85f098",
   "metadata": {},
   "source": [
    "Changing the variable is called side effect"
   ]
  },
  {
   "cell_type": "code",
   "execution_count": 6,
   "id": "06f4ae59-b4e5-4e9e-bd1f-bd216ee8e436",
   "metadata": {},
   "outputs": [
    {
     "name": "stdout",
     "output_type": "stream",
     "text": [
      "5\n"
     ]
    },
    {
     "data": {
      "text/plain": [
       "aV: Int = 5\n"
      ]
     },
     "execution_count": 6,
     "metadata": {},
     "output_type": "execute_result"
    }
   ],
   "source": [
    "var aV= 2\n",
    "aV += 3\n",
    "println(aV)"
   ]
  },
  {
   "cell_type": "markdown",
   "id": "35442547-ae2f-4769-89d0-1aba90a9ff1f",
   "metadata": {},
   "source": [
    "## If expression"
   ]
  },
  {
   "cell_type": "markdown",
   "id": "a06350b9-28c8-482d-9aff-cd98bc9bd902",
   "metadata": {},
   "source": [
    "IF in scala is an expression"
   ]
  },
  {
   "cell_type": "code",
   "execution_count": 7,
   "id": "fbfdc007-07ab-4458-852b-6f320096df35",
   "metadata": {},
   "outputs": [
    {
     "name": "stdout",
     "output_type": "stream",
     "text": [
      "5\n"
     ]
    },
    {
     "data": {
      "text/plain": [
       "aCondition: Boolean = true\n",
       "aConditionValue: Int = 5\n"
      ]
     },
     "execution_count": 7,
     "metadata": {},
     "output_type": "execute_result"
    }
   ],
   "source": [
    "val aCondition = true\n",
    "val aConditionValue = if(aCondition) 5 else 7\n",
    "println(aConditionValue)"
   ]
  },
  {
   "cell_type": "markdown",
   "id": "6cd66e87-053c-4654-b317-85ddb8cdadfc",
   "metadata": {},
   "source": [
    "## While loop"
   ]
  },
  {
   "cell_type": "markdown",
   "id": "88b3d1f4-19bd-4412-81f4-d496c75c7c57",
   "metadata": {},
   "source": [
    "Avoid using while loops"
   ]
  },
  {
   "cell_type": "code",
   "execution_count": 8,
   "id": "c0a50320-139f-4816-8feb-629473fcb610",
   "metadata": {},
   "outputs": [
    {
     "name": "stdout",
     "output_type": "stream",
     "text": [
      "0\n",
      "1\n",
      "2\n",
      "3\n",
      "4\n",
      "5\n",
      "6\n",
      "7\n",
      "8\n",
      "9\n"
     ]
    },
    {
     "data": {
      "text/plain": [
       "i: Int = 10\n"
      ]
     },
     "execution_count": 8,
     "metadata": {},
     "output_type": "execute_result"
    }
   ],
   "source": [
    "var i =0\n",
    "while (i < 10){\n",
    "    println(i)\n",
    "    i +=1\n",
    "}"
   ]
  },
  {
   "cell_type": "markdown",
   "id": "74f58039-979c-404d-baec-e11aae89421a",
   "metadata": {},
   "source": [
    "## Code blocks"
   ]
  },
  {
   "cell_type": "code",
   "execution_count": 9,
   "id": "b8d8c90c-d6f0-4259-ace0-d78f57b42dfb",
   "metadata": {},
   "outputs": [
    {
     "data": {
      "text/plain": [
       "aCodeblock: String = hello\n"
      ]
     },
     "execution_count": 9,
     "metadata": {},
     "output_type": "execute_result"
    }
   ],
   "source": [
    "val aCodeblock = {\n",
    "    val y =2\n",
    "    val z = y+1\n",
    "    if (z>2) \"hello\" else \"goodbye\" \n",
    "}"
   ]
  },
  {
   "cell_type": "code",
   "execution_count": 10,
   "id": "03429c77-8dc5-46fe-87cd-63d3466cf23c",
   "metadata": {},
   "outputs": [
    {
     "data": {
      "text/plain": [
       "res8: String = hello\n"
      ]
     },
     "execution_count": 10,
     "metadata": {},
     "output_type": "execute_result"
    }
   ],
   "source": [
    "aCodeblock"
   ]
  },
  {
   "cell_type": "markdown",
   "id": "26da5539-9919-4ac7-914f-5859d060a473",
   "metadata": {},
   "source": [
    "## Difference between \"hello world\" vs println(\"hello world\")"
   ]
  },
  {
   "cell_type": "markdown",
   "id": "e0640bf0-97dd-4e93-a029-56d285766aa7",
   "metadata": {},
   "source": [
    "\"hello world\" is string\n",
    "\n",
    "println(\"hello world\") is unit"
   ]
  },
  {
   "cell_type": "code",
   "execution_count": null,
   "id": "78342bef-655e-4772-abed-03f5031ac2b2",
   "metadata": {},
   "outputs": [],
   "source": []
  }
 ],
 "metadata": {
  "kernelspec": {
   "display_name": "spylon-kernel",
   "language": "scala",
   "name": "spylon-kernel"
  },
  "language_info": {
   "codemirror_mode": "text/x-scala",
   "file_extension": ".scala",
   "help_links": [
    {
     "text": "MetaKernel Magics",
     "url": "https://metakernel.readthedocs.io/en/latest/source/README.html"
    }
   ],
   "mimetype": "text/x-scala",
   "name": "scala",
   "pygments_lexer": "scala",
   "version": "0.4.1"
  }
 },
 "nbformat": 4,
 "nbformat_minor": 5
}
