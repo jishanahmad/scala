{
 "cells": [
  {
   "cell_type": "markdown",
   "id": "d4660347-7167-4c8d-95ab-b8807b4616ce",
   "metadata": {},
   "source": [
    "# Call by name VS call by value"
   ]
  },
  {
   "cell_type": "markdown",
   "id": "780e9e8c-a115-4c5c-820a-f9f0205e24d2",
   "metadata": {},
   "source": [
    "Call by value"
   ]
  },
  {
   "cell_type": "code",
   "execution_count": 2,
   "id": "a228185b-acf1-48bd-acd6-08a5ad28460a",
   "metadata": {},
   "outputs": [
    {
     "data": {
      "text/plain": [
       "calledByValue: (x: Long)Unit\n"
      ]
     },
     "execution_count": 2,
     "metadata": {},
     "output_type": "execute_result"
    }
   ],
   "source": [
    "def calledByValue(x: Long): Unit = {\n",
    "    println(\"by value: \" + x)\n",
    "    println(\"by value: \" + x)\n",
    "  }"
   ]
  },
  {
   "cell_type": "markdown",
   "id": "4c8b0efb-5d72-49d2-a88f-ff97bf3d639e",
   "metadata": {},
   "source": [
    "Call by name"
   ]
  },
  {
   "cell_type": "code",
   "execution_count": 3,
   "id": "ab139bb7-1196-4f83-8b9c-3ffd04cadc14",
   "metadata": {},
   "outputs": [
    {
     "data": {
      "text/plain": [
       "calledByName: (x: => Long)Unit\n"
      ]
     },
     "execution_count": 3,
     "metadata": {},
     "output_type": "execute_result"
    }
   ],
   "source": [
    "def calledByName(x: => Long): Unit = {\n",
    "    println(\"by name: \" + x)\n",
    "    println(\"by name: \" + x)\n",
    "  }"
   ]
  },
  {
   "cell_type": "markdown",
   "id": "1c53fe35-4051-412f-b3ca-ba0f1c9a41a7",
   "metadata": {},
   "source": [
    "In call by value,value is computed first and is used in every program.\n",
    "\n",
    "In call by Name,the entire expression is passes as it is."
   ]
  },
  {
   "cell_type": "code",
   "execution_count": 5,
   "id": "4f10a4d0-180d-4123-84b9-8dbaa4d933c1",
   "metadata": {},
   "outputs": [
    {
     "name": "stdout",
     "output_type": "stream",
     "text": [
      "by value: 107954332361196\n",
      "by value: 107954332361196\n"
     ]
    }
   ],
   "source": [
    "calledByValue(System.nanoTime())"
   ]
  },
  {
   "cell_type": "code",
   "execution_count": 6,
   "id": "5d1b974f-97cc-464e-af9e-d527156e16e3",
   "metadata": {},
   "outputs": [
    {
     "name": "stdout",
     "output_type": "stream",
     "text": [
      "by name: 107968946439296\n",
      "by name: 107968946597896\n"
     ]
    }
   ],
   "source": [
    "calledByName(System.nanoTime())"
   ]
  },
  {
   "cell_type": "markdown",
   "id": "f433d036-1a06-4abe-93c9-59aaecbdfef1",
   "metadata": {},
   "source": []
  },
  {
   "cell_type": "code",
   "execution_count": null,
   "id": "13bee993-d4a5-490a-9aed-de954825b21e",
   "metadata": {},
   "outputs": [],
   "source": []
  }
 ],
 "metadata": {
  "kernelspec": {
   "display_name": "spylon-kernel",
   "language": "scala",
   "name": "spylon-kernel"
  },
  "language_info": {
   "codemirror_mode": "text/x-scala",
   "file_extension": ".scala",
   "help_links": [
    {
     "text": "MetaKernel Magics",
     "url": "https://metakernel.readthedocs.io/en/latest/source/README.html"
    }
   ],
   "mimetype": "text/x-scala",
   "name": "scala",
   "pygments_lexer": "scala",
   "version": "0.4.1"
  }
 },
 "nbformat": 4,
 "nbformat_minor": 5
}
