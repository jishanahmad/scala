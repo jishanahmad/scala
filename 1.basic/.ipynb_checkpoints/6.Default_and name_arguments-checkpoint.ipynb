{
 "cells": [
  {
   "cell_type": "markdown",
   "id": "be9c0049-de23-4947-b47e-53307711060d",
   "metadata": {},
   "source": [
    "# Default and named arguments"
   ]
  },
  {
   "cell_type": "markdown",
   "id": "3be84fbb-3ca1-4685-b00a-15a592b9992a",
   "metadata": {},
   "source": [
    "In scala we can pass auguments by val= {n}"
   ]
  },
  {
   "cell_type": "markdown",
   "id": "ad3420d9-4950-4223-a4b4-9ad29d07579b",
   "metadata": {},
   "source": [
    "### Recursive function without parameter"
   ]
  },
  {
   "cell_type": "code",
   "execution_count": 5,
   "id": "ff2007c8-af33-4d45-b3fb-628331b6adfa",
   "metadata": {},
   "outputs": [
    {
     "data": {
      "text/plain": [
       "trFact: (n: Int, acc: Int)Int\n"
      ]
     },
     "execution_count": 5,
     "metadata": {},
     "output_type": "execute_result"
    }
   ],
   "source": [
    "  def trFact(n: Int, acc: Int): Int =\n",
    "    if (n <= 1) acc\n",
    "    else trFact(n-1, n*acc)"
   ]
  },
  {
   "cell_type": "code",
   "execution_count": 6,
   "id": "9538e8ae-8ae9-4230-b9d2-f66900082b96",
   "metadata": {},
   "outputs": [
    {
     "data": {
      "text/plain": [
       "res2: Int = 3628800\n"
      ]
     },
     "execution_count": 6,
     "metadata": {},
     "output_type": "execute_result"
    }
   ],
   "source": [
    "trFact(10,1)"
   ]
  },
  {
   "cell_type": "markdown",
   "id": "40b297cc-2f9c-4c6c-b2cb-1d26deea7126",
   "metadata": {},
   "source": [
    "### Recursive function with parameter"
   ]
  },
  {
   "cell_type": "code",
   "execution_count": 7,
   "id": "69bd627f-b035-460c-9f82-5a0dd058165c",
   "metadata": {},
   "outputs": [
    {
     "data": {
      "text/plain": [
       "trFact2: (n: Int, acc: Int)Int\n"
      ]
     },
     "execution_count": 7,
     "metadata": {},
     "output_type": "execute_result"
    }
   ],
   "source": [
    "  def trFact2(n: Int, acc: Int = 1): Int =\n",
    "    if (n <= 1) acc\n",
    "    else trFact2(n-1, n*acc)"
   ]
  },
  {
   "cell_type": "code",
   "execution_count": 8,
   "id": "4cd59c5c-27f4-4221-9223-74eea82a98c8",
   "metadata": {},
   "outputs": [
    {
     "data": {
      "text/plain": [
       "res3: Int = 3628800\n"
      ]
     },
     "execution_count": 8,
     "metadata": {},
     "output_type": "execute_result"
    }
   ],
   "source": [
    "trFact2(10)"
   ]
  },
  {
   "cell_type": "code",
   "execution_count": null,
   "id": "22397eba-5f4c-4aea-915b-053bc8895a69",
   "metadata": {},
   "outputs": [],
   "source": []
  }
 ],
 "metadata": {
  "kernelspec": {
   "display_name": "spylon-kernel",
   "language": "scala",
   "name": "spylon-kernel"
  },
  "language_info": {
   "codemirror_mode": "text/x-scala",
   "file_extension": ".scala",
   "help_links": [
    {
     "text": "MetaKernel Magics",
     "url": "https://metakernel.readthedocs.io/en/latest/source/README.html"
    }
   ],
   "mimetype": "text/x-scala",
   "name": "scala",
   "pygments_lexer": "scala",
   "version": "0.4.1"
  }
 },
 "nbformat": 4,
 "nbformat_minor": 5
}
