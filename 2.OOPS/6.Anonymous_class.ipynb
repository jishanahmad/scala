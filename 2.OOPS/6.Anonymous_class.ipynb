{
 "cells": [
  {
   "cell_type": "markdown",
   "id": "03476b44-76ae-4562-9243-59bb193d0d12",
   "metadata": {},
   "source": [
    "# Anonymous class"
   ]
  },
  {
   "cell_type": "markdown",
   "id": "d80568dd-8c58-4d46-81b5-89d37641de17",
   "metadata": {},
   "source": [
    "* An anonymous function is also known as a function literal\n",
    "* A function which does not contain a name is known as an anonymous function\n",
    "* An anonymous function provides a lightweight function definition. It is useful when we want to create an inline function."
   ]
  },
  {
   "cell_type": "markdown",
   "id": "f9cb5c2c-0cb9-4b09-a961-3fbb102abf39",
   "metadata": {},
   "source": [
    "#### Syntax"
   ]
  },
  {
   "cell_type": "markdown",
   "id": "dde16886-fce5-41c6-be06-e7b6ea44e938",
   "metadata": {},
   "source": [
    "(z:Int, y:Int)=> z*y\n",
    "\n",
    "Or\n",
    "\n",
    "(_:Int)*(_Int)"
   ]
  },
  {
   "cell_type": "code",
   "execution_count": 3,
   "id": "2552040e-a81c-4377-a549-35c4ff3c2706",
   "metadata": {},
   "outputs": [
    {
     "name": "stdout",
     "output_type": "stream",
     "text": [
      "jishanahmad\n",
      "jishanahmad\n"
     ]
    },
    {
     "data": {
      "text/plain": [
       "myfc1: (String, String) => String = $Lambda$2094/0x0000000840c91040@7acb8892\n",
       "myfc2: (String, String) => String = $Lambda$2095/0x0000000840c91840@35067814\n"
      ]
     },
     "execution_count": 3,
     "metadata": {},
     "output_type": "execute_result"
    }
   ],
   "source": [
    "var myfc1 = (str1:String, str2:String) => str1 + str2\n",
    "var myfc2 = (_:String) + (_:String)\n",
    "        \n",
    "println(myfc1(\"jishan\", \"ahmad\"))\n",
    "println(myfc2(\"jishan\", \"ahmad\"))"
   ]
  },
  {
   "cell_type": "code",
   "execution_count": null,
   "id": "d2e8ac3a-6287-413b-88eb-47de08c0a352",
   "metadata": {},
   "outputs": [],
   "source": []
  }
 ],
 "metadata": {
  "kernelspec": {
   "display_name": "spylon-kernel",
   "language": "scala",
   "name": "spylon-kernel"
  },
  "language_info": {
   "codemirror_mode": "text/x-scala",
   "file_extension": ".scala",
   "help_links": [
    {
     "text": "MetaKernel Magics",
     "url": "https://metakernel.readthedocs.io/en/latest/source/README.html"
    }
   ],
   "mimetype": "text/x-scala",
   "name": "scala",
   "pygments_lexer": "scala",
   "version": "0.4.1"
  }
 },
 "nbformat": 4,
 "nbformat_minor": 5
}
