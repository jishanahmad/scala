{
 "cells": [
  {
   "cell_type": "markdown",
   "id": "64af71b7-aad4-4a77-8d32-b4744046de18",
   "metadata": {},
   "source": [
    "# Method notation"
   ]
  },
  {
   "cell_type": "markdown",
   "id": "3daae8a6-22ff-4ffa-b287-84fbd8b59de9",
   "metadata": {},
   "source": [
    "### EX:1"
   ]
  },
  {
   "cell_type": "code",
   "execution_count": 26,
   "id": "692411d8-c424-4650-a867-0431f7344678",
   "metadata": {},
   "outputs": [
    {
     "data": {
      "text/plain": [
       "defined class Person\n"
      ]
     },
     "execution_count": 26,
     "metadata": {},
     "output_type": "execute_result"
    }
   ],
   "source": [
    "class Person(val name: String, favoriteMovie: String){\n",
    "    def likes(movie: String): Boolean = movie ==  favoriteMovie\n",
    "}"
   ]
  },
  {
   "cell_type": "code",
   "execution_count": 27,
   "id": "d5b23c1b-4b53-4c48-9adb-3e72b0ed3ac2",
   "metadata": {},
   "outputs": [
    {
     "data": {
      "text/plain": [
       "marry: Person = Person@370e1415\n"
      ]
     },
     "execution_count": 27,
     "metadata": {},
     "output_type": "execute_result"
    }
   ],
   "source": [
    "val marry = new Person(\"Mary\",\"Inception\")"
   ]
  },
  {
   "cell_type": "markdown",
   "id": "76ea330e-314c-484c-b304-cd41b48c0298",
   "metadata": {},
   "source": [
    "You can call methods in below of two ways in scala"
   ]
  },
  {
   "cell_type": "code",
   "execution_count": 28,
   "id": "bb284f01-65b8-441e-8788-17df51af8343",
   "metadata": {},
   "outputs": [
    {
     "name": "stdout",
     "output_type": "stream",
     "text": [
      "true\n"
     ]
    }
   ],
   "source": [
    "println(marry.likes(\"Inception\"))"
   ]
  },
  {
   "cell_type": "markdown",
   "id": "f0ae0f88-123e-44a2-97f7-c7e84377d003",
   "metadata": {},
   "source": [
    "This methods works only if there is only 1 parameter"
   ]
  },
  {
   "cell_type": "code",
   "execution_count": 29,
   "id": "d847b4c0-bbd4-4f9f-a94a-33905cdac76b",
   "metadata": {},
   "outputs": [
    {
     "name": "stdout",
     "output_type": "stream",
     "text": [
      "true\n"
     ]
    }
   ],
   "source": [
    "println(marry likes(\"Inception\"))"
   ]
  },
  {
   "cell_type": "markdown",
   "id": "2ef130ba-17dc-40c8-8239-87d1472a2054",
   "metadata": {},
   "source": [
    "## Prefix notation"
   ]
  },
  {
   "cell_type": "code",
   "execution_count": 39,
   "id": "3dca59e3-ebcc-4f87-82d2-61f457488531",
   "metadata": {},
   "outputs": [
    {
     "data": {
      "text/plain": [
       "x: Int = -1\n"
      ]
     },
     "execution_count": 39,
     "metadata": {},
     "output_type": "execute_result"
    }
   ],
   "source": [
    "val x = -1"
   ]
  },
  {
   "cell_type": "markdown",
   "id": "ee23eef0-33e9-422c-883c-24067f50fc53",
   "metadata": {},
   "source": [
    "### unary_ prefix"
   ]
  },
  {
   "cell_type": "markdown",
   "id": "18f9d05b-dbf9-4c42-b313-1387226f2001",
   "metadata": {},
   "source": [
    "Another way of writing minus sign"
   ]
  },
  {
   "cell_type": "code",
   "execution_count": 43,
   "id": "820111e0-386d-47bf-ae11-468cc4fb2449",
   "metadata": {},
   "outputs": [
    {
     "data": {
      "text/plain": [
       "y: Int = -1\n"
      ]
     },
     "execution_count": 43,
     "metadata": {},
     "output_type": "execute_result"
    }
   ],
   "source": [
    "val y = 1.unary_-"
   ]
  },
  {
   "cell_type": "code",
   "execution_count": 46,
   "id": "048af56d-82fd-48c4-ba52-5d8fcae0a476",
   "metadata": {},
   "outputs": [
    {
     "data": {
      "text/plain": [
       "defined class Person\n"
      ]
     },
     "execution_count": 46,
     "metadata": {},
     "output_type": "execute_result"
    }
   ],
   "source": [
    "class Person(val name: String, favoriteMovie: String){\n",
    "    def likes(movie: String): Boolean = movie ==  favoriteMovie\n",
    "    def unary_! : String = s\"${name} what is this\"\n",
    "}"
   ]
  },
  {
   "cell_type": "code",
   "execution_count": 47,
   "id": "4d863bf0-3731-4c68-b5d4-f0f1ceebb0ce",
   "metadata": {},
   "outputs": [
    {
     "data": {
      "text/plain": [
       "Jishan: Person = Person@160f59eb\n"
      ]
     },
     "execution_count": 47,
     "metadata": {},
     "output_type": "execute_result"
    }
   ],
   "source": [
    "val Jishan = new Person(\"Jishan\",\"Inception\")"
   ]
  },
  {
   "cell_type": "code",
   "execution_count": 48,
   "id": "a6d26c0b-2f0e-4c40-addb-116b6fce9310",
   "metadata": {},
   "outputs": [
    {
     "name": "stdout",
     "output_type": "stream",
     "text": [
      "Jishan what is this\n"
     ]
    }
   ],
   "source": [
    "println(!Jishan)"
   ]
  },
  {
   "cell_type": "code",
   "execution_count": 49,
   "id": "f57d6758-d49a-4d9d-903a-022900d09454",
   "metadata": {},
   "outputs": [
    {
     "name": "stdout",
     "output_type": "stream",
     "text": [
      "Jishan what is this\n"
     ]
    }
   ],
   "source": [
    "println(Jishan.unary_!)"
   ]
  },
  {
   "cell_type": "markdown",
   "id": "26077797-3c35-45f5-8dbe-52b9e77958d5",
   "metadata": {},
   "source": [
    "## Postfix notation"
   ]
  },
  {
   "cell_type": "code",
   "execution_count": 52,
   "id": "0d6c9a36-d89b-42d7-938e-96627733cdf2",
   "metadata": {},
   "outputs": [
    {
     "data": {
      "text/plain": [
       "defined class Person\n"
      ]
     },
     "execution_count": 52,
     "metadata": {},
     "output_type": "execute_result"
    }
   ],
   "source": [
    "class Person(val name: String, favoriteMovie: String){\n",
    "    def likes(movie: String): Boolean = movie ==  favoriteMovie\n",
    "    def isAlive : Boolean = true\n",
    "}"
   ]
  },
  {
   "cell_type": "code",
   "execution_count": 53,
   "id": "5336948e-342c-4e5d-8438-647d8ed1dda0",
   "metadata": {},
   "outputs": [
    {
     "data": {
      "text/plain": [
       "new_person: Person = Person@733ee37a\n"
      ]
     },
     "execution_count": 53,
     "metadata": {},
     "output_type": "execute_result"
    }
   ],
   "source": [
    "val new_person = new Person(\"jishan2\", \"Abc\")"
   ]
  },
  {
   "cell_type": "markdown",
   "id": "36ee6e84-af72-47d6-92ec-25376ce1e46d",
   "metadata": {},
   "source": [
    "Postfix notation"
   ]
  },
  {
   "cell_type": "code",
   "execution_count": 54,
   "id": "cc8b199f-dc10-4154-bd88-66f3a3a5fe63",
   "metadata": {},
   "outputs": [
    {
     "name": "stdout",
     "output_type": "stream",
     "text": [
      "true\n"
     ]
    },
    {
     "data": {
      "text/plain": [
       "warning: one feature warning; for details, enable `:setting -feature' or `:replay -feature'\n"
      ]
     },
     "execution_count": 54,
     "metadata": {},
     "output_type": "execute_result"
    }
   ],
   "source": [
    "println(new_person isAlive)"
   ]
  },
  {
   "cell_type": "markdown",
   "id": "22e6cf69-0d48-4ad3-9804-867f8a9846b5",
   "metadata": {},
   "source": [
    "## Exercises"
   ]
  },
  {
   "cell_type": "markdown",
   "id": "f5bafa3a-6b4f-40e8-a72b-457397d73227",
   "metadata": {},
   "source": [
    "### Ex:1"
   ]
  },
  {
   "cell_type": "markdown",
   "id": "ed8f86f1-ab4c-4716-bca8-fa0b4389abcf",
   "metadata": {},
   "source": [
    "overload the + operator\n",
    "mary + \"the rockstar\" = new Person \"Marry (the rockstar)\""
   ]
  },
  {
   "cell_type": "code",
   "execution_count": 58,
   "id": "6acbce2e-96d2-4c42-a2f2-ba121c8a8fca",
   "metadata": {},
   "outputs": [
    {
     "data": {
      "text/plain": [
       "defined class Person\n"
      ]
     },
     "execution_count": 58,
     "metadata": {},
     "output_type": "execute_result"
    }
   ],
   "source": [
    "class Person(val name: String, favoriteMovie: String){\n",
    "    def likes(movie: String): Boolean = movie ==  favoriteMovie\n",
    "    def +(person: Person): String = s\"{this.name} is hanging out with ${person.name}\"\n",
    "}"
   ]
  },
  {
   "cell_type": "code",
   "execution_count": 68,
   "id": "4c9cbf70-c8ee-4c87-b74a-538a5c847636",
   "metadata": {},
   "outputs": [
    {
     "data": {
      "text/plain": [
       "defined class Person\n"
      ]
     },
     "execution_count": 68,
     "metadata": {},
     "output_type": "execute_result"
    }
   ],
   "source": [
    "class Person(val name: String, favoriteMovie: String){\n",
    "    def likes(movie: String): Boolean = movie ==  favoriteMovie\n",
    "    def +(person: Person): String = s\"{this.name} is hanging out with ${person.name}\"\n",
    "    def +(nickname: String) : Person = new Person(s\"$name ($nickname)\", favoriteMovie)\n",
    "    def apply(): String = s\"Hi,my name is $name and i like $favoriteMovie\"\n",
    "}"
   ]
  },
  {
   "cell_type": "code",
   "execution_count": 69,
   "id": "36135075-0896-49b9-a936-e36753702935",
   "metadata": {},
   "outputs": [
    {
     "data": {
      "text/plain": [
       "marry: Person = Person@d7b770c\n"
      ]
     },
     "execution_count": 69,
     "metadata": {},
     "output_type": "execute_result"
    }
   ],
   "source": [
    "val marry = new Person(\"Mary\",\"Inception\") "
   ]
  },
  {
   "cell_type": "code",
   "execution_count": 71,
   "id": "eabf7296-2215-470c-980a-de03f02a7e5b",
   "metadata": {},
   "outputs": [
    {
     "name": "stdout",
     "output_type": "stream",
     "text": [
      "Hi,my name is Mary (the rockstar) and i like Inception\n"
     ]
    }
   ],
   "source": [
    "println((marry + \"the rockstar\").apply())"
   ]
  },
  {
   "cell_type": "markdown",
   "id": "0f31b85b-7b51-47d9-a878-0c1e551cbbab",
   "metadata": {},
   "source": [
    "### Ex:2"
   ]
  },
  {
   "cell_type": "markdown",
   "id": "b248bf5f-aa47-4465-946d-297c553d37b6",
   "metadata": {},
   "source": [
    "Add a age to person class\n",
    "\n",
    "add a unary + operator => new person with age + 1\n",
    "\n",
    "+mary => mary with age increment"
   ]
  },
  {
   "cell_type": "code",
   "execution_count": 81,
   "id": "30c8e02f-ee3f-42e1-82db-7126c11fe87a",
   "metadata": {},
   "outputs": [
    {
     "data": {
      "text/plain": [
       "defined class Person\n"
      ]
     },
     "execution_count": 81,
     "metadata": {},
     "output_type": "execute_result"
    }
   ],
   "source": [
    "class Person(val name: String, favoriteMovie: String, val age: Int =25){\n",
    "    def likes(movie: String): Boolean = movie ==  favoriteMovie\n",
    "    def +(person: Person): String = s\"{this.name} is hanging out with ${person.name}\"\n",
    "    def +(nickname: String) : Person = new Person(s\"$name ($nickname)\", favoriteMovie)\n",
    "    def apply(): String = s\"Hi,my name is $name and i like $favoriteMovie\"\n",
    "    def unary_+ : Person = new Person(name, favoriteMovie, age+1)\n",
    "}"
   ]
  },
  {
   "cell_type": "code",
   "execution_count": 82,
   "id": "3e09e4f8-cde6-4199-a9ab-7deef3f9b600",
   "metadata": {},
   "outputs": [
    {
     "data": {
      "text/plain": [
       "marry: Person = Person@33dda034\n"
      ]
     },
     "execution_count": 82,
     "metadata": {},
     "output_type": "execute_result"
    }
   ],
   "source": [
    "val marry = new Person(\"Mary\",\"Inception\",30)"
   ]
  },
  {
   "cell_type": "code",
   "execution_count": 84,
   "id": "27f440f1-e4c2-47b3-82f4-434a48d795b7",
   "metadata": {},
   "outputs": [
    {
     "name": "stdout",
     "output_type": "stream",
     "text": [
      "30\n"
     ]
    }
   ],
   "source": [
    "println(marry.age)"
   ]
  },
  {
   "cell_type": "code",
   "execution_count": 83,
   "id": "6a7e6519-2b49-4fe9-9e5c-96057408552b",
   "metadata": {},
   "outputs": [
    {
     "name": "stdout",
     "output_type": "stream",
     "text": [
      "31\n"
     ]
    }
   ],
   "source": [
    "println((+marry).age)"
   ]
  },
  {
   "cell_type": "markdown",
   "id": "a16b9a83-9cda-4911-a566-999f62ac0a55",
   "metadata": {},
   "source": [
    "### Ex:3"
   ]
  },
  {
   "cell_type": "markdown",
   "id": "e58e3638-0bed-4eff-a427-2bfeb4c0a3f9",
   "metadata": {},
   "source": [
    "Add a learns method in the person class => \"marry learns scala\"\n",
    "\n",
    "add a learnscala method,calls learns method with scala\n",
    "\n",
    "use it in prefix notation"
   ]
  },
  {
   "cell_type": "code",
   "execution_count": 86,
   "id": "8c88c94f-dc1d-40b5-ae11-fe500c2894a1",
   "metadata": {},
   "outputs": [
    {
     "data": {
      "text/plain": [
       "defined class Person\n"
      ]
     },
     "execution_count": 86,
     "metadata": {},
     "output_type": "execute_result"
    }
   ],
   "source": [
    "class Person(val name: String, favoriteMovie: String, val age: Int =25){\n",
    "    def likes(movie: String): Boolean = movie ==  favoriteMovie\n",
    "    def +(person: Person): String = s\"{this.name} is hanging out with ${person.name}\"\n",
    "    def +(nickname: String) : Person = new Person(s\"$name ($nickname)\", favoriteMovie)\n",
    "    def apply(): String = s\"Hi,my name is $name and i like $favoriteMovie\"\n",
    "    def unary_+ : Person = new Person(name, favoriteMovie, age+1)\n",
    "    def learns(thing: String) = s\"$name is learning $thing\"\n",
    "    def learnsscala = this learns \"scala\"\n",
    "}"
   ]
  },
  {
   "cell_type": "code",
   "execution_count": 87,
   "id": "add6e723-7ecf-49ba-9ca0-fa944045f3c7",
   "metadata": {},
   "outputs": [
    {
     "data": {
      "text/plain": [
       "marry: Person = Person@2d103dcf\n"
      ]
     },
     "execution_count": 87,
     "metadata": {},
     "output_type": "execute_result"
    }
   ],
   "source": [
    "val marry = new Person(\"Mary\",\"Inception\",30)"
   ]
  },
  {
   "cell_type": "code",
   "execution_count": 88,
   "id": "f351d733-8b12-4c7d-be7f-45c472ff5bc4",
   "metadata": {},
   "outputs": [
    {
     "name": "stdout",
     "output_type": "stream",
     "text": [
      "Mary is learning scala\n"
     ]
    },
    {
     "data": {
      "text/plain": [
       "warning: one feature warning; for details, enable `:setting -feature' or `:replay -feature'\n"
      ]
     },
     "execution_count": 88,
     "metadata": {},
     "output_type": "execute_result"
    }
   ],
   "source": [
    "println(marry learnsscala)"
   ]
  },
  {
   "cell_type": "code",
   "execution_count": 92,
   "id": "12168ec2-4c95-4d24-a5b9-0bfa6ecb24b0",
   "metadata": {},
   "outputs": [
    {
     "name": "stdout",
     "output_type": "stream",
     "text": [
      "Mary is learning scala\n"
     ]
    }
   ],
   "source": [
    "println(marry learns(\"scala\"))"
   ]
  },
  {
   "cell_type": "markdown",
   "id": "481bd73d-b3fb-443b-ba3a-b1bb8ad008d1",
   "metadata": {},
   "source": [
    "### Ex:4"
   ]
  },
  {
   "cell_type": "markdown",
   "id": "c084a4c2-7c5a-4c10-85eb-98d1e555aa94",
   "metadata": {},
   "source": [
    "overload the apply method \n",
    "\n",
    "marry.apply(2) => \"Marry watched inception 2 times\""
   ]
  },
  {
   "cell_type": "code",
   "execution_count": 93,
   "id": "f6101b23-341a-496d-9f0d-08dec6b71838",
   "metadata": {},
   "outputs": [
    {
     "data": {
      "text/plain": [
       "defined class Person\n"
      ]
     },
     "execution_count": 93,
     "metadata": {},
     "output_type": "execute_result"
    }
   ],
   "source": [
    "class Person(val name: String, favoriteMovie: String, val age: Int =25){\n",
    "    def likes(movie: String): Boolean = movie ==  favoriteMovie\n",
    "    def +(person: Person): String = s\"{this.name} is hanging out with ${person.name}\"\n",
    "    def +(nickname: String) : Person = new Person(s\"$name ($nickname)\", favoriteMovie)\n",
    "    def apply(): String = s\"Hi,my name is $name and i like $favoriteMovie\"\n",
    "    def apply(n: Int): String = s\"${name} watched ${favoriteMovie} ${n} times\"\n",
    "\n",
    "}"
   ]
  },
  {
   "cell_type": "code",
   "execution_count": 94,
   "id": "6e051bb4-f10c-4c17-b7c4-8309b9349329",
   "metadata": {},
   "outputs": [
    {
     "data": {
      "text/plain": [
       "marry: Person = Person@6cfe34a\n"
      ]
     },
     "execution_count": 94,
     "metadata": {},
     "output_type": "execute_result"
    }
   ],
   "source": [
    "val marry = new Person(\"Mary\",\"Inception\",30)"
   ]
  },
  {
   "cell_type": "code",
   "execution_count": 95,
   "id": "df284801-cd1f-4d42-861f-82c4bc44d9d1",
   "metadata": {},
   "outputs": [
    {
     "name": "stdout",
     "output_type": "stream",
     "text": [
      "Mary watched Inception 10 times\n"
     ]
    }
   ],
   "source": [
    "println(marry.apply(10))"
   ]
  },
  {
   "cell_type": "code",
   "execution_count": null,
   "id": "e15eef2b-0c9c-4d6a-be1b-21804e735ebb",
   "metadata": {},
   "outputs": [],
   "source": []
  }
 ],
 "metadata": {
  "kernelspec": {
   "display_name": "spylon-kernel",
   "language": "scala",
   "name": "spylon-kernel"
  },
  "language_info": {
   "codemirror_mode": "text/x-scala",
   "file_extension": ".scala",
   "help_links": [
    {
     "text": "MetaKernel Magics",
     "url": "https://metakernel.readthedocs.io/en/latest/source/README.html"
    }
   ],
   "mimetype": "text/x-scala",
   "name": "scala",
   "pygments_lexer": "scala",
   "version": "0.4.1"
  }
 },
 "nbformat": 4,
 "nbformat_minor": 5
}
