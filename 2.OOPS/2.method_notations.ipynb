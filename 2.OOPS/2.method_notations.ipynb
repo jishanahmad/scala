{
 "cells": [
  {
   "cell_type": "markdown",
   "id": "64af71b7-aad4-4a77-8d32-b4744046de18",
   "metadata": {},
   "source": [
    "# Method notation"
   ]
  },
  {
   "cell_type": "code",
   "execution_count": null,
   "id": "692411d8-c424-4650-a867-0431f7344678",
   "metadata": {},
   "outputs": [
    {
     "data": {
      "text/plain": [
       "Intitializing Scala interpreter ..."
      ]
     },
     "metadata": {},
     "output_type": "display_data"
    }
   ],
   "source": [
    "class person(val name: String, favoriteMovie: String){\n",
    "    def likes(movie: String): Boolean = movie ==  favoriteMovie\n",
    "}"
   ]
  },
  {
   "cell_type": "code",
   "execution_count": null,
   "id": "d5b23c1b-4b53-4c48-9adb-3e72b0ed3ac2",
   "metadata": {},
   "outputs": [],
   "source": []
  }
 ],
 "metadata": {
  "kernelspec": {
   "display_name": "spylon-kernel",
   "language": "scala",
   "name": "spylon-kernel"
  },
  "language_info": {
   "codemirror_mode": "text/x-scala",
   "file_extension": ".scala",
   "help_links": [
    {
     "text": "MetaKernel Magics",
     "url": "https://metakernel.readthedocs.io/en/latest/source/README.html"
    }
   ],
   "mimetype": "text/x-scala",
   "name": "scala",
   "pygments_lexer": "scala",
   "version": "0.4.1"
  }
 },
 "nbformat": 4,
 "nbformat_minor": 5
}
