{
 "cells": [
  {
   "cell_type": "markdown",
   "id": "153f9323-00fc-44ce-9c53-9711b89852f1",
   "metadata": {},
   "source": [
    "# Case class"
   ]
  },
  {
   "cell_type": "markdown",
   "id": "93d8cb10-728e-40bc-a48f-ab101607a334",
   "metadata": {},
   "source": [
    "## Define case class"
   ]
  },
  {
   "cell_type": "code",
   "execution_count": null,
   "id": "727dfee4-eb42-41ce-805e-2b9cbb8556d2",
   "metadata": {},
   "outputs": [
    {
     "data": {
      "text/plain": [
       "Intitializing Scala interpreter ..."
      ]
     },
     "metadata": {},
     "output_type": "display_data"
    }
   ],
   "source": [
    "println(\"hello world\")"
   ]
  },
  {
   "cell_type": "code",
   "execution_count": null,
   "id": "a29bc0a8-46ed-4f9f-9a0a-fdb9b61eb753",
   "metadata": {},
   "outputs": [],
   "source": [
    "object caseclass{\n",
    "    case class person(name: String , age: Int)\n",
    "    \n",
    "    val jim = new person(\"jim\",34)\n",
    "    println(jim.name)\n",
    "}"
   ]
  },
  {
   "cell_type": "code",
   "execution_count": null,
   "id": "e1f778b1-3e24-43bf-a8e2-10927bab03e3",
   "metadata": {},
   "outputs": [],
   "source": [
    "* class parameters are promoted to field"
   ]
  }
 ],
 "metadata": {
  "kernelspec": {
   "display_name": "spylon-kernel",
   "language": "scala",
   "name": "spylon-kernel"
  },
  "language_info": {
   "codemirror_mode": "text/x-scala",
   "file_extension": ".scala",
   "help_links": [
    {
     "text": "MetaKernel Magics",
     "url": "https://metakernel.readthedocs.io/en/latest/source/README.html"
    }
   ],
   "mimetype": "text/x-scala",
   "name": "scala",
   "pygments_lexer": "scala",
   "version": "0.4.1"
  }
 },
 "nbformat": 4,
 "nbformat_minor": 5
}
