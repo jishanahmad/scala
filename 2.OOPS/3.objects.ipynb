{
 "cells": [
  {
   "cell_type": "markdown",
   "id": "93351b44-4f78-47b1-8740-d349f6b9cfa8",
   "metadata": {},
   "source": [
    "# Objects"
   ]
  },
  {
   "cell_type": "markdown",
   "id": "7c6b4526-7aa3-4485-be0b-549130b4fdb2",
   "metadata": {},
   "source": [
    "* Scala does not have class label functionality instaed it has object"
   ]
  },
  {
   "cell_type": "markdown",
   "id": "59715871-2619-4ecf-8a13-4f90b9f0458a",
   "metadata": {},
   "source": [
    "## Define an object"
   ]
  },
  {
   "cell_type": "code",
   "execution_count": 3,
   "id": "e159715c-ebe6-4a08-8ad9-dc73cb86c60c",
   "metadata": {},
   "outputs": [
    {
     "data": {
      "text/plain": [
       "defined object Person\n"
      ]
     },
     "execution_count": 3,
     "metadata": {},
     "output_type": "execute_result"
    }
   ],
   "source": [
    "object Person {\n",
    "    val N_EYES =2\n",
    "}"
   ]
  },
  {
   "cell_type": "markdown",
   "id": "d1b84aac-2c26-409a-b0ae-3d7ba92d82fa",
   "metadata": {},
   "source": [
    "### Access variable inside object"
   ]
  },
  {
   "cell_type": "code",
   "execution_count": 6,
   "id": "c42a62a5-fa4b-4e8e-9d78-e3dbbc5ebed9",
   "metadata": {},
   "outputs": [
    {
     "name": "stdout",
     "output_type": "stream",
     "text": [
      "2\n"
     ]
    }
   ],
   "source": [
    "println(Person.N_EYES)"
   ]
  },
  {
   "cell_type": "markdown",
   "id": "47b933df-67ce-46e1-b7c9-f21a6697e78e",
   "metadata": {},
   "source": [
    "### scala objects are SINGLETON INSTANCE"
   ]
  },
  {
   "cell_type": "markdown",
   "id": "2e4db9de-0fee-4eed-966f-dc6c74cebb59",
   "metadata": {},
   "source": [
    "It means multiple instance of object points to same object"
   ]
  },
  {
   "cell_type": "code",
   "execution_count": 9,
   "id": "e0a060e3-fbb2-4fe7-979e-889990a044e0",
   "metadata": {},
   "outputs": [
    {
     "data": {
      "text/plain": [
       "mary: Person.type = Person$@146f8ad9\n",
       "john: Person.type = Person$@146f8ad9\n"
      ]
     },
     "execution_count": 9,
     "metadata": {},
     "output_type": "execute_result"
    }
   ],
   "source": [
    "val mary = Person\n",
    "val john = Person"
   ]
  },
  {
   "cell_type": "code",
   "execution_count": 10,
   "id": "0981d6b3-c491-41e2-a3bc-f02d73e744a7",
   "metadata": {},
   "outputs": [
    {
     "data": {
      "text/plain": [
       "res4: Boolean = true\n"
      ]
     },
     "execution_count": 10,
     "metadata": {},
     "output_type": "execute_result"
    }
   ],
   "source": [
    "mary == john"
   ]
  },
  {
   "cell_type": "markdown",
   "id": "07b55f20-815f-4271-8fb8-095832213817",
   "metadata": {},
   "source": [
    "## Scala applications"
   ]
  },
  {
   "cell_type": "markdown",
   "id": "2f1c6e9e-7c4e-4315-920e-c6ee2a04bcff",
   "metadata": {},
   "source": [
    "* scala applications are scala objects with main method"
   ]
  },
  {
   "cell_type": "code",
   "execution_count": null,
   "id": "6829d440-afd5-4ebb-82f5-7f50b805f195",
   "metadata": {},
   "outputs": [],
   "source": [
    "object Person {\n",
    "    \n",
    "    def main(args: Array[String]): Unit = {\n",
    "        \n",
    "    }\n",
    "}"
   ]
  }
 ],
 "metadata": {
  "kernelspec": {
   "display_name": "spylon-kernel",
   "language": "scala",
   "name": "spylon-kernel"
  },
  "language_info": {
   "codemirror_mode": "text/x-scala",
   "file_extension": ".scala",
   "help_links": [
    {
     "text": "MetaKernel Magics",
     "url": "https://metakernel.readthedocs.io/en/latest/source/README.html"
    }
   ],
   "mimetype": "text/x-scala",
   "name": "scala",
   "pygments_lexer": "scala",
   "version": "0.4.1"
  }
 },
 "nbformat": 4,
 "nbformat_minor": 5
}
