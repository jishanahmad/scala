{
 "cells": [
  {
   "cell_type": "markdown",
   "id": "b51c6313-bc6b-4142-a383-356800efe968",
   "metadata": {},
   "source": [
    "# Generics"
   ]
  },
  {
   "cell_type": "markdown",
   "id": "8facb921-ad7d-49ba-bc51-1f010ad5b3f1",
   "metadata": {},
   "source": [
    "### Define a generic class"
   ]
  },
  {
   "cell_type": "code",
   "execution_count": 2,
   "id": "3b4628ee-e09a-4e82-9e7a-115f9317a70f",
   "metadata": {},
   "outputs": [
    {
     "data": {
      "text/plain": [
       "defined object generic\n"
      ]
     },
     "execution_count": 2,
     "metadata": {},
     "output_type": "execute_result"
    }
   ],
   "source": [
    "object generic{\n",
    "    class myList[A]{\n",
    "    }\n",
    "    \n",
    "    val listOfIntegers = new myList[Int]\n",
    "    val listOfStrings = new myList[String]\n",
    "}"
   ]
  },
  {
   "cell_type": "markdown",
   "id": "9c4676d7-7f50-4136-aaeb-ee6fa50c4bde",
   "metadata": {},
   "source": [
    "### Define a generic method"
   ]
  },
  {
   "cell_type": "code",
   "execution_count": 7,
   "id": "2816e8c6-1e98-4a88-9515-76f07ba530fe",
   "metadata": {},
   "outputs": [
    {
     "data": {
      "text/plain": [
       "defined object generic\n"
      ]
     },
     "execution_count": 7,
     "metadata": {},
     "output_type": "execute_result"
    }
   ],
   "source": [
    "object generic{\n",
    "    class myList[A]{\n",
    "    }\n",
    "    \n",
    "    object myList{\n",
    "        //define generic method\n",
    "        def empty[A] : myList[A] = ???\n",
    "    }\n",
    "    //call generic method\n",
    "    val empytyListOfIntegers = myList.empty[Int]\n",
    "}"
   ]
  },
  {
   "cell_type": "code",
   "execution_count": null,
   "id": "35495c3a-aa3d-4255-9894-cd26adea0f78",
   "metadata": {},
   "outputs": [],
   "source": []
  }
 ],
 "metadata": {
  "kernelspec": {
   "display_name": "spylon-kernel",
   "language": "scala",
   "name": "spylon-kernel"
  },
  "language_info": {
   "codemirror_mode": "text/x-scala",
   "file_extension": ".scala",
   "help_links": [
    {
     "text": "MetaKernel Magics",
     "url": "https://metakernel.readthedocs.io/en/latest/source/README.html"
    }
   ],
   "mimetype": "text/x-scala",
   "name": "scala",
   "pygments_lexer": "scala",
   "version": "0.4.1"
  }
 },
 "nbformat": 4,
 "nbformat_minor": 5
}
