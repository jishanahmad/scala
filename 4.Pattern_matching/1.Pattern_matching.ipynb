{
 "cells": [
  {
   "cell_type": "markdown",
   "id": "f633d061-bd7b-463c-b63f-b5a164523ed6",
   "metadata": {},
   "source": [
    "# Pattern matching"
   ]
  },
  {
   "cell_type": "markdown",
   "id": "7b833122-8730-4e8b-9c3e-17decdb72d3b",
   "metadata": {},
   "source": [
    "## Matching using case"
   ]
  },
  {
   "cell_type": "markdown",
   "id": "769f7767-7621-478d-b4da-398910eb028b",
   "metadata": {},
   "source": [
    "### Ex:1"
   ]
  },
  {
   "cell_type": "code",
   "execution_count": 9,
   "id": "c0aaed07-7b23-4a87-8e8d-60f01cc3630f",
   "metadata": {},
   "outputs": [
    {
     "data": {
      "text/plain": [
       "import scala.util.Random\n"
      ]
     },
     "execution_count": 9,
     "metadata": {},
     "output_type": "execute_result"
    }
   ],
   "source": [
    "import scala.util.Random"
   ]
  },
  {
   "cell_type": "code",
   "execution_count": 10,
   "id": "872c43a4-8e5b-4b57-8c1c-d69a7adafdd2",
   "metadata": {},
   "outputs": [
    {
     "data": {
      "text/plain": [
       "random: scala.util.Random = scala.util.Random@5bfb398f\n",
       "x: Int = 5\n"
      ]
     },
     "execution_count": 10,
     "metadata": {},
     "output_type": "execute_result"
    }
   ],
   "source": [
    "val random = new Random()\n",
    "val x = random.nextInt(10)"
   ]
  },
  {
   "cell_type": "code",
   "execution_count": 12,
   "id": "9fc51c10-2c93-4eb7-b1ea-4e41fa90f08d",
   "metadata": {},
   "outputs": [
    {
     "name": "stdout",
     "output_type": "stream",
     "text": [
      "5\n",
      "something else\n"
     ]
    },
    {
     "data": {
      "text/plain": [
       "description: String = something else\n"
      ]
     },
     "execution_count": 12,
     "metadata": {},
     "output_type": "execute_result"
    }
   ],
   "source": [
    "val description = x match {\n",
    "    case 1 => \"The one\"\n",
    "    case 2 => \"double or nothing\"\n",
    "    case 3 => \"trird time\"\n",
    "    case _ => \"something else\"\n",
    "}\n",
    "\n",
    "println(x)\n",
    "println(description)"
   ]
  },
  {
   "cell_type": "markdown",
   "id": "e2183dd5-d660-428b-9ad3-dcc50efc6e0c",
   "metadata": {},
   "source": [
    "### Ex:2"
   ]
  },
  {
   "cell_type": "code",
   "execution_count": 16,
   "id": "360d8e25-97a7-4997-99b8-5ed5b5635c56",
   "metadata": {},
   "outputs": [
    {
     "data": {
      "text/plain": [
       "defined class Animal\n",
       "defined class Dog\n",
       "defined class Parrot\n"
      ]
     },
     "execution_count": 16,
     "metadata": {},
     "output_type": "execute_result"
    }
   ],
   "source": [
    "class Animal\n",
    "\n",
    "case class Dog(breed: String) extends Animal\n",
    "case class Parrot(greetings: String) extends Animal"
   ]
  },
  {
   "cell_type": "code",
   "execution_count": 18,
   "id": "5c68168e-094d-4523-9abf-654a89130bfc",
   "metadata": {},
   "outputs": [
    {
     "name": "stdout",
     "output_type": "stream",
     "text": [
      "Matched a dog of the Terra Nova breed\n"
     ]
    },
    {
     "data": {
      "text/plain": [
       "animal: Animal = Dog(Terra Nova)\n"
      ]
     },
     "execution_count": 18,
     "metadata": {},
     "output_type": "execute_result"
    }
   ],
   "source": [
    "val animal: Animal = Dog(\"Terra Nova\")\n",
    "\n",
    "animal match {\n",
    "    case Dog(breed) => println(s\"Matched a dog of the $breed breed\")\n",
    "}"
   ]
  },
  {
   "cell_type": "code",
   "execution_count": null,
   "id": "158d3475-360e-44e2-a421-31db7120977f",
   "metadata": {},
   "outputs": [],
   "source": []
  }
 ],
 "metadata": {
  "kernelspec": {
   "display_name": "spylon-kernel",
   "language": "scala",
   "name": "spylon-kernel"
  },
  "language_info": {
   "codemirror_mode": "text/x-scala",
   "file_extension": ".scala",
   "help_links": [
    {
     "text": "MetaKernel Magics",
     "url": "https://metakernel.readthedocs.io/en/latest/source/README.html"
    }
   ],
   "mimetype": "text/x-scala",
   "name": "scala",
   "pygments_lexer": "scala",
   "version": "0.4.1"
  }
 },
 "nbformat": 4,
 "nbformat_minor": 5
}
