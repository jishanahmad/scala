{
 "cells": [
  {
   "cell_type": "markdown",
   "id": "eaf83198-3a93-4250-9978-3520bcaba047",
   "metadata": {},
   "source": [
    "# All pattern"
   ]
  },
  {
   "cell_type": "markdown",
   "id": "b63357e2-0cdd-4655-a004-48d53ee95bbe",
   "metadata": {},
   "source": [
    "## Match constant"
   ]
  },
  {
   "cell_type": "code",
   "execution_count": 2,
   "id": "c4671436-ce88-469f-88b4-1ccca96e7e20",
   "metadata": {},
   "outputs": [
    {
     "data": {
      "text/plain": [
       "x: Any = scala\n"
      ]
     },
     "execution_count": 2,
     "metadata": {},
     "output_type": "execute_result"
    }
   ],
   "source": [
    "val x:Any = \"scala\" "
   ]
  },
  {
   "cell_type": "code",
   "execution_count": 11,
   "id": "5783f9b0-3a1b-41a8-baed-810477a9aa32",
   "metadata": {},
   "outputs": [
    {
     "ename": "<console>",
     "evalue": "28: error: not found: value AllThePatterns",
     "output_type": "error",
     "traceback": [
      "<console>:28: error: not found: value AllThePatterns",
      "           case AllThePatterns => \"\"",
      "                ^",
      ""
     ]
    }
   ],
   "source": [
    "val constant = x match{\n",
    "    case 1 => \"a number\"\n",
    "    case \"scala\" => \"The scala\"\n",
    "    case true => \"The Truth\"\n",
    "    case AllThePatterns => \"\"\n",
    "}"
   ]
  },
  {
   "cell_type": "markdown",
   "id": "f880027a-fb80-49d1-b233-793a9d47b539",
   "metadata": {},
   "source": [
    "## Match wildcard"
   ]
  },
  {
   "cell_type": "code",
   "execution_count": 8,
   "id": "f87d5823-790c-4d40-983c-e3b97448112b",
   "metadata": {},
   "outputs": [
    {
     "data": {
      "text/plain": [
       "matchAnything: String = Matched anything\n"
      ]
     },
     "execution_count": 8,
     "metadata": {},
     "output_type": "execute_result"
    }
   ],
   "source": [
    "val matchAnything = x match {\n",
    "    case _ => \"Matched anything\"\n",
    "}"
   ]
  },
  {
   "cell_type": "markdown",
   "id": "5b53062e-9868-4648-8163-81133d8a72cf",
   "metadata": {},
   "source": [
    "## Match variables"
   ]
  },
  {
   "cell_type": "code",
   "execution_count": 6,
   "id": "126ddd5a-9713-4f3b-b49f-a640dd194b34",
   "metadata": {},
   "outputs": [
    {
     "data": {
      "text/plain": [
       "matchAnything: String = i have found scala\n"
      ]
     },
     "execution_count": 6,
     "metadata": {},
     "output_type": "execute_result"
    }
   ],
   "source": [
    "val matchAnything = x match {\n",
    "    case something => s\"i have found ${something}\"\n",
    "}"
   ]
  },
  {
   "cell_type": "markdown",
   "id": "a069e080-b71e-476a-9fe2-951ec13aa483",
   "metadata": {},
   "source": [
    "## Match tuples"
   ]
  },
  {
   "cell_type": "code",
   "execution_count": 9,
   "id": "dc429d28-fe72-412e-b619-693aacc192ae",
   "metadata": {},
   "outputs": [
    {
     "data": {
      "text/plain": [
       "aTuple: (Int, Int) = (1,2)\n",
       "matchATuple: String = i have found 1\n"
      ]
     },
     "execution_count": 9,
     "metadata": {},
     "output_type": "execute_result"
    }
   ],
   "source": [
    "val aTuple= (1,2)\n",
    "val matchATuple = aTuple match{\n",
    "    case (1,1) => \"match 1,1\"\n",
    "    case (something, 2) => s\"i have found $something\"\n",
    "}"
   ]
  },
  {
   "cell_type": "markdown",
   "id": "686a14dd-59e2-4a9a-b627-1614312ca870",
   "metadata": {},
   "source": [
    "## List patterns"
   ]
  },
  {
   "cell_type": "code",
   "execution_count": 12,
   "id": "94869f35-a31a-479d-8614-23b252ccf216",
   "metadata": {},
   "outputs": [
    {
     "data": {
      "text/plain": [
       "aList: List[Int] = List(1, 2, 3, 42)\n"
      ]
     },
     "execution_count": 12,
     "metadata": {},
     "output_type": "execute_result"
    }
   ],
   "source": [
    "val aList = List(1,2,3,42)"
   ]
  },
  {
   "cell_type": "code",
   "execution_count": 17,
   "id": "199fd011-678a-4844-9ec9-da364aad963f",
   "metadata": {},
   "outputs": [
    {
     "data": {
      "text/plain": [
       "aListMatch: String = match the list 1,*,*,*\n"
      ]
     },
     "execution_count": 17,
     "metadata": {},
     "output_type": "execute_result"
    }
   ],
   "source": [
    "val aListMatch = aList match {\n",
    "    case List(1,_,_,_) => \"match the list 1,*,*,*\"\n",
    "    case List(1, _*) => \"mast list which starts with 1\"\n",
    "}"
   ]
  },
  {
   "cell_type": "markdown",
   "id": "061e16ed-117d-4788-a2a1-47f35a89e4c5",
   "metadata": {},
   "source": [
    "## Type specifier"
   ]
  },
  {
   "cell_type": "code",
   "execution_count": 18,
   "id": "e01abb48-e502-4302-8dff-27b6e09f1908",
   "metadata": {},
   "outputs": [
    {
     "data": {
      "text/plain": [
       "<console>:25: warning: non-variable type argument Int in type pattern List[Int] (the underlying of List[Int]) is unchecked since it is eliminated by erasure\n",
       "           case list: List[Int] => \"\"\n",
       "                      ^\n",
       "unknown: Any = 2\n",
       "unknownMatch: String = \"\"\n"
      ]
     },
     "execution_count": 18,
     "metadata": {},
     "output_type": "execute_result"
    }
   ],
   "source": [
    "val unknown:Any = 2\n",
    "val unknownMatch = unknown match {\n",
    "    case list: List[Int] => \"\"\n",
    "    case _ => \"\"\n",
    "}"
   ]
  },
  {
   "cell_type": "markdown",
   "id": "d7b081e7-6f86-423c-b0e9-c3b6bdc977e7",
   "metadata": {},
   "source": [
    "## Name Binding"
   ]
  },
  {
   "cell_type": "code",
   "execution_count": 20,
   "id": "a7d2172d-839d-4713-af56-d81254fa97dd",
   "metadata": {},
   "outputs": [
    {
     "ename": "<console>",
     "evalue": "23: error: not found: value Cons",
     "output_type": "error",
     "traceback": [
      "<console>:23: error: not found: value Cons",
      "       val aList = Cons(1, cons(2, Empty))",
      "                   ^",
      "<console>:23: error: not found: value cons",
      "       val aList = Cons(1, cons(2, Empty))",
      "                           ^",
      "<console>:23: error: not found: value Empty",
      "       val aList = Cons(1, cons(2, Empty))",
      "                                   ^",
      ""
     ]
    }
   ],
   "source": [
    "val aList = Cons(1, cons(2, Empty))"
   ]
  },
  {
   "cell_type": "code",
   "execution_count": 21,
   "id": "042b83f7-58aa-4923-9413-3f08a2a3d221",
   "metadata": {},
   "outputs": [
    {
     "ename": "<console>",
     "evalue": "25: error: not found: value Cons",
     "output_type": "error",
     "traceback": [
      "<console>:25: error: not found: value Cons",
      "           case noEmptyList @ Cons(_,_) => \"\"",
      "                              ^",
      "<console>:26: error: not found: value Cons",
      "           case Cons(1, rest @ Cons(2,0)) => \"\"",
      "                ^",
      "<console>:26: error: not found: value Cons",
      "           case Cons(1, rest @ Cons(2,0)) => \"\"",
      "                               ^",
      ""
     ]
    }
   ],
   "source": [
    "val nameBindingMatch = aList match {\n",
    "    case noEmptyList @ Cons(_,_) => \"\"\n",
    "    case Cons(1, rest @ Cons(2,0)) => \"\"\n",
    "}"
   ]
  },
  {
   "cell_type": "markdown",
   "id": "db0dfc51-b6d2-4100-8611-e4e5b5c32213",
   "metadata": {},
   "source": [
    "## Multi pattern"
   ]
  },
  {
   "cell_type": "code",
   "execution_count": 22,
   "id": "6ac9bead-d40e-43a8-92e8-7c689759cb62",
   "metadata": {},
   "outputs": [
    {
     "ename": "<console>",
     "evalue": "25: error: not found: value Empty",
     "output_type": "error",
     "traceback": [
      "<console>:25: error: not found: value Empty",
      "           case Empty | Cons(0, _) => \"\"",
      "                ^",
      "<console>:25: error: not found: value Cons",
      "           case Empty | Cons(0, _) => \"\"",
      "                        ^",
      ""
     ]
    }
   ],
   "source": [
    "val multipattern = aList match {\n",
    "    case Empty | Cons(0, _) => \"\"\n",
    "}"
   ]
  },
  {
   "cell_type": "code",
   "execution_count": null,
   "id": "7ac6a660-c32b-4e72-9431-4287eb4c3fc5",
   "metadata": {},
   "outputs": [],
   "source": []
  }
 ],
 "metadata": {
  "kernelspec": {
   "display_name": "spylon-kernel",
   "language": "scala",
   "name": "spylon-kernel"
  },
  "language_info": {
   "codemirror_mode": "text/x-scala",
   "file_extension": ".scala",
   "help_links": [
    {
     "text": "MetaKernel Magics",
     "url": "https://metakernel.readthedocs.io/en/latest/source/README.html"
    }
   ],
   "mimetype": "text/x-scala",
   "name": "scala",
   "pygments_lexer": "scala",
   "version": "0.4.1"
  }
 },
 "nbformat": 4,
 "nbformat_minor": 5
}
